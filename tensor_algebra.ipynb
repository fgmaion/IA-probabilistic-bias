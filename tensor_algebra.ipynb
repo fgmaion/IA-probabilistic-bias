{
 "cells": [
  {
   "cell_type": "code",
   "execution_count": 1,
   "id": "3db65981",
   "metadata": {},
   "outputs": [],
   "source": [
    "import sympy\n",
    "import numpy as np\n",
    "import isotropic_tensors as it\n",
    "\n",
    "from IPython.display import display"
   ]
  },
  {
   "cell_type": "markdown",
   "id": "1a523aea",
   "metadata": {},
   "source": [
    "# Summary\n",
    "This notebook shows how to use the code in [isotropic_tensors.py](isotropic_tensors.py) to do linear algebra with isotropic tensors as explained in Section 4 of (insert arxiv link)\n",
    "\n",
    "High dimensional isotropic tensors can all be represented in index notation through combinations of Kronecker-Delta $\\delta_{ij}$ symbols and Levi-Cevita symbols $\\epsilon_{ijk}$. Different contractions between isotropic tensors can in principle be evaluated analytically by contracting these index representations. However, this becomes very cumbersome for the very high dimensional objects that we need here.\n",
    "\n",
    "Therefore, the code in isotropic_tensors.py creates numerical numpy representations of tensors which we can then easily contract computationally. We can then find a representation of the result of some product, by decomposing it again in some isotropic basis. For convenience we additionally use the computer algebra system \"sympy\" to represent some results in a convenient symbolic form\n",
    "\n",
    "This notebook shows examples:\n",
    "1. How the numeric representations of isotropic tensors look\n",
    "2. How products between tensors are evaluated\n",
    "3. How we can compute the algebra of isotropic tensors\n",
    "4. How we can use to define the covariance matrices and their pseudo-inverse"
   ]
  },
  {
   "cell_type": "markdown",
   "id": "2b3d99b7",
   "metadata": {},
   "source": [
    "# Isotropic Tensors"
   ]
  },
  {
   "cell_type": "code",
   "execution_count": 2,
   "id": "e5cac07a",
   "metadata": {},
   "outputs": [],
   "source": [
    "its = it.IsotropicTensorSystem(usecache=False)"
   ]
  },
  {
   "cell_type": "code",
   "execution_count": 3,
   "id": "1944e5db",
   "metadata": {},
   "outputs": [
    {
     "name": "stdout",
     "output_type": "stream",
     "text": [
      "[[[[ 0.66666667  0.          0.        ]\n",
      "   [ 0.         -0.33333333  0.        ]\n",
      "   [ 0.          0.         -0.33333333]]\n",
      "\n",
      "  [[ 0.          0.5         0.        ]\n",
      "   [ 0.5         0.          0.        ]\n",
      "   [ 0.          0.          0.        ]]\n",
      "\n",
      "  [[ 0.          0.          0.5       ]\n",
      "   [ 0.          0.          0.        ]\n",
      "   [ 0.5         0.          0.        ]]]\n",
      "\n",
      "\n",
      " [[[ 0.          0.5         0.        ]\n",
      "   [ 0.5         0.          0.        ]\n",
      "   [ 0.          0.          0.        ]]\n",
      "\n",
      "  [[-0.33333333  0.          0.        ]\n",
      "   [ 0.          0.66666667  0.        ]\n",
      "   [ 0.          0.         -0.33333333]]\n",
      "\n",
      "  [[ 0.          0.          0.        ]\n",
      "   [ 0.          0.          0.5       ]\n",
      "   [ 0.          0.5         0.        ]]]\n",
      "\n",
      "\n",
      " [[[ 0.          0.          0.5       ]\n",
      "   [ 0.          0.          0.        ]\n",
      "   [ 0.5         0.          0.        ]]\n",
      "\n",
      "  [[ 0.          0.          0.        ]\n",
      "   [ 0.          0.          0.5       ]\n",
      "   [ 0.          0.5         0.        ]]\n",
      "\n",
      "  [[-0.33333333  0.          0.        ]\n",
      "   [ 0.         -0.33333333  0.        ]\n",
      "   [ 0.          0.          0.66666667]]]]\n"
     ]
    }
   ],
   "source": [
    "# We can access some symbolic tensor through a string\n",
    "# Each tensor has a numerical representation and a sympy symbol representing it\n",
    "# and some additional properties\n",
    "print(its(\"J2=2\").N())"
   ]
  },
  {
   "cell_type": "code",
   "execution_count": 4,
   "id": "bd0ec91e",
   "metadata": {},
   "outputs": [
    {
     "name": "stdout",
     "output_type": "stream",
     "text": [
      "(2, 2) 5\n"
     ]
    },
    {
     "data": {
      "text/latex": [
       "$\\displaystyle J_{22}$"
      ],
      "text/plain": [
       "J_22"
      ]
     },
     "metadata": {},
     "output_type": "display_data"
    }
   ],
   "source": [
    "# Groups of symmetric indices, Norm of the tensor\n",
    "print(its(\"J2=2\").symshape, its(\"J2=2\").norm2())\n",
    "# Sympy symbol\n",
    "display(its(\"J22\").symbol())"
   ]
  },
  {
   "cell_type": "markdown",
   "id": "ea043c51",
   "metadata": {},
   "source": [
    "Here some examples of the index representations of different isotropic tensors. $S$ indicates a symmetrization between the indicated indices.\n",
    "\n",
    "| Tensor          | Index Representation                                                                            | Norm              |\n",
    "|-----------------|------------------------------------------------------------------------------------------------------------------|-------------------|\n",
    "| $J_{2}$         | $S_{2}(\\delta_{ij})$                                                                            | $3$               |\n",
    "| $J_{22}$        | $S_{22}(\\delta_{ij}\\delta_{kl})$                                                                | $9$               |\n",
    "| $J_{2=2}$       | $- \\frac{S_{22}(\\delta_{ij}\\delta_{kl})}{3} + S_{22}(\\delta_{ik}\\delta_{jl})$                   | $5$               |\n",
    "| $J_{4}$         | $S_{4}(\\delta_{ij}\\delta_{kl})$                                                                 | $5$               |\n",
    "| $J_{3-3}$       | $S_{33}(\\delta_{ij}\\delta_{kl}\\delta_{mn})$                                                     | $\\frac{25}{3}$    |\n",
    "| $J_{3\\equiv3}$  | $- \\frac{3 S_{33}(\\delta_{ij}\\delta_{kl}\\delta_{mn})}{5} + S_{33}(\\delta_{ik}\\delta_{mj}\\delta_{ln})$ | $7$               |\n",
    "| $J_{24}$        | $S_{24}(\\delta_{ij}\\delta_{kl}\\delta_{mn})$                                                     | $15$              |\n",
    "| $J_{2=4}$       | $- \\frac{S_{24}(\\delta_{ij}\\delta_{kl}\\delta_{mn})}{3} + S_{24}(\\delta_{ik}\\delta_{jl}\\delta_{mn})$ | $\\frac{35}{6}$    |"
   ]
  },
  {
   "cell_type": "markdown",
   "id": "2af5e338",
   "metadata": {},
   "source": [
    "## Tensor Algebra\n",
    "Products between different tensors are simply evaluated through their numerical representations. For example"
   ]
  },
  {
   "cell_type": "code",
   "execution_count": 5,
   "id": "c55b816e",
   "metadata": {},
   "outputs": [
    {
     "name": "stdout",
     "output_type": "stream",
     "text": [
      "[[3. 0. 0.]\n",
      " [0. 3. 0.]\n",
      " [0. 0. 3.]]\n"
     ]
    }
   ],
   "source": [
    "Jres = np.einsum(\"ijkl,kl\", its(\"J22\").N(), its(\"J2\").N())\n",
    "print(Jres)"
   ]
  },
  {
   "cell_type": "markdown",
   "id": "63eb5982",
   "metadata": {},
   "source": [
    "Corresponding to 3 times the unit tensor. We can use the function its.decompose to decompose the numeric form of some tensor in another basis"
   ]
  },
  {
   "cell_type": "code",
   "execution_count": 6,
   "id": "e1e163f5",
   "metadata": {},
   "outputs": [
    {
     "name": "stdout",
     "output_type": "stream",
     "text": [
      "[3.]\n",
      "[0.33333333 1.        ]\n"
     ]
    },
    {
     "data": {
      "text/latex": [
       "$\\displaystyle \\frac{J_{22}}{3} + J_{2=2}$"
      ],
      "text/plain": [
       "J_22/3 + J_2=2"
      ]
     },
     "execution_count": 6,
     "metadata": {},
     "output_type": "execute_result"
    }
   ],
   "source": [
    "# Decompose Jres in basis of orthogonal isotropic tensors with 2 indices (only the unit tensor)\n",
    "print(its.decompose(Jres, \"2\"))\n",
    "# A more complicated example, decompose I2=2 in terms of J22 and J2=2\n",
    "print(its.decompose(its(\"I2=2\").N(), \"22\"))\n",
    "# We also have a function to show symbolic representations\n",
    "its.symbol_decompose(its(\"I2=2\").N(), \"22\")"
   ]
  },
  {
   "cell_type": "markdown",
   "id": "1b4bf730",
   "metadata": {},
   "source": [
    "Here some examples of a few more complicated products:"
   ]
  },
  {
   "cell_type": "code",
   "execution_count": 7,
   "id": "467886b4",
   "metadata": {},
   "outputs": [
    {
     "data": {
      "text/latex": [
       "$\\displaystyle J_{2=2}$"
      ],
      "text/plain": [
       "J_2=2"
      ]
     },
     "metadata": {},
     "output_type": "display_data"
    },
    {
     "data": {
      "text/latex": [
       "$\\displaystyle 0$"
      ],
      "text/plain": [
       "0"
      ]
     },
     "metadata": {},
     "output_type": "display_data"
    },
    {
     "data": {
      "text/latex": [
       "$\\displaystyle 3 J_{24}$"
      ],
      "text/plain": [
       "3*J_24"
      ]
     },
     "metadata": {},
     "output_type": "display_data"
    },
    {
     "data": {
      "text/latex": [
       "$\\displaystyle \\frac{7 J_{4=4}}{6}$"
      ],
      "text/plain": [
       "7*J_4=4/6"
      ]
     },
     "metadata": {},
     "output_type": "display_data"
    }
   ],
   "source": [
    "# np.tensordot is like an einsum over \"axes\" axes\n",
    "Ja = np.tensordot(its(\"J2=2\").N(), its(\"J2=2\").N(), axes=2)\n",
    "display(its.symbol_decompose(Ja, \"22\"))\n",
    "Jb = np.tensordot(its(\"J2=2\").N(), its(\"J22\").N(), axes=2)\n",
    "display(its.symbol_decompose(Jb, \"22\"))\n",
    "Jc = np.tensordot(its(\"J22\").N(), its(\"J24\").N(), axes=2)\n",
    "display(its.symbol_decompose(Jc, \"24\"))\n",
    "Jd = np.tensordot(its(\"J4=4\").N(), its(\"J4=4\").N(), axes=4)\n",
    "display(its.symbol_decompose(Jd, \"44\"))"
   ]
  },
  {
   "cell_type": "markdown",
   "id": "b44d72ee",
   "metadata": {},
   "source": [
    "Here a systematic overview of 2-index, 3-index and 4-index products that lead to non-zero results:"
   ]
  },
  {
   "cell_type": "code",
   "execution_count": 8,
   "id": "f81b4555",
   "metadata": {},
   "outputs": [
    {
     "data": {
      "text/latex": [
       "$\\displaystyle \\left[\\begin{array}{ccccccccccccccc}J_{2}^{2} & J_{2} J_{22} & J_{2} J_{24} & J_{2} J_{222} & J_{2} J_{2=22} & J_{22}^{2} & J_{22} J_{24} & J_{22} J_{222} & J_{22} J_{2=22} & J_{2=2}^{2} & J_{2=2} J_{2=4} & J_{2=2} J_{2=22} & J_{2=2} J_{2-2-2-} & J_{42} J_{24} & J_{4=2} J_{2=4}\\\\3 & 3 J_{2} & 3 J_{4} & 3 J_{22} & J_{2=2} & 3 J_{22} & 3 J_{24} & 3 J_{222} & J_{2=22} & J_{2=2} & J_{2=4} & \\frac{2 J_{2=22}}{3} & J_{2-2-2-} & 3 J_{44} & J_{4=4}\\end{array}\\right]$"
      ],
      "text/plain": [
       "Matrix([\n",
       "[J_2**2, J_2*J_22, J_2*J_24, J_2*J_222, J_2*J_2=22, J_22**2, J_22*J_24, J_22*J_222, J_22*J_2=22, J_2=2**2, J_2=2*J_2=4, J_2=2*J_2=22, J_2=2*J_2-2-2-, J_42*J_24, J_4=2*J_2=4],\n",
       "[     3,    3*J_2,    3*J_4,    3*J_22,      J_2=2,  3*J_22,    3*J_24,    3*J_222,      J_2=22,    J_2=2,       J_2=4,   2*J_2=22/3,       J_2-2-2-,    3*J_44,       J_4=4]])"
      ]
     },
     "metadata": {},
     "output_type": "display_data"
    },
    {
     "data": {
      "text/latex": [
       "$\\displaystyle \\left[\\begin{matrix}J_{3-3}^{2} & J_{3\\equiv3}^{2}\\\\\\frac{5 J_{3-3}}{3} & J_{3\\equiv3}\\end{matrix}\\right]$"
      ],
      "text/plain": [
       "Matrix([\n",
       "[ J_3-3**2, J_3\\equiv3**2],\n",
       "[5*J_3-3/3,    J_3\\equiv3]])"
      ]
     },
     "metadata": {},
     "output_type": "display_data"
    },
    {
     "data": {
      "text/latex": [
       "$\\displaystyle \\left[\\begin{matrix}J_{4}^{2} & J_{4} J_{42} & J_{4} J_{44} & J_{24} J_{44} & J_{2=4} J_{4=4} & J_{44}^{2} & J_{4=4}^{2} & J_{4==4}^{2}\\\\5 & 5 J_{2} & 5 J_{4} & 5 J_{24} & \\frac{7 J_{2=4}}{6} & 5 J_{44} & \\frac{7 J_{4=4}}{6} & J_{4==4}\\end{matrix}\\right]$"
      ],
      "text/plain": [
       "Matrix([\n",
       "[J_4**2, J_4*J_42, J_4*J_44, J_24*J_44, J_2=4*J_4=4, J_44**2,  J_4=4**2, J_4==4**2],\n",
       "[     5,    5*J_2,    5*J_4,    5*J_24,   7*J_2=4/6,  5*J_44, 7*J_4=4/6,    J_4==4]])"
      ]
     },
     "metadata": {},
     "output_type": "display_data"
    }
   ],
   "source": [
    "display(sympy.Matrix(its.symbol_algebra(product=2)).T)\n",
    "display(sympy.Matrix(its.symbol_algebra(product=3)).T)\n",
    "display(sympy.Matrix(its.symbol_algebra(product=4)).T)\n",
    "# All substitutions that make sense based on this algebra are summarized in its.orth_algebra"
   ]
  },
  {
   "cell_type": "markdown",
   "id": "e0d6b4b4",
   "metadata": {},
   "source": [
    "Here the relations between the simple basis ($I$-tensors) versus the orthogonalized basis ($J$-tensors):"
   ]
  },
  {
   "cell_type": "code",
   "execution_count": 9,
   "id": "f8508af4",
   "metadata": {},
   "outputs": [
    {
     "data": {
      "text/latex": [
       "$\\displaystyle \\left[\\begin{array}{ccccccccccccccccccc}1 & J_{2} & J_{4} & J_{6} & J_{8} & J_{22} & J_{2=2} & J_{3-3} & J_{3\\equiv3} & J_{42} & J_{4=2} & J_{24} & J_{2=4} & J_{44} & J_{4=4} & J_{4==4} & J_{222} & J_{2=22} & J_{2-2-2-}\\\\1 & I_{2} & I_{4} & I_{6} & I_{8} & I_{22} & - \\frac{I_{22}}{3} + I_{2=2} & I_{3-3} & - \\frac{3 I_{3-3}}{5} + I_{3\\equiv3} & I_{42} & - \\frac{I_{42}}{3} + I_{4=2} & I_{24} & - \\frac{I_{24}}{3} + I_{2=4} & I_{44} & - \\frac{I_{44}}{3} + I_{4=4} & \\frac{3 I_{44}}{35} - \\frac{6 I_{4=4}}{7} + I_{4==4} & I_{222} & - \\frac{I_{222}}{3} + I_{2=22} & I_{2-2-2-} + \\frac{2 I_{222}}{9} - I_{2=22}\\end{array}\\right]$"
      ],
      "text/plain": [
       "Matrix([\n",
       "[1, J_2, J_4, J_6, J_8, J_22,           J_2=2, J_3-3,              J_3\\equiv3, J_42,           J_4=2, J_24,           J_2=4, J_44,           J_4=4,                         J_4==4, J_222,            J_2=22,                      J_2-2-2-],\n",
       "[1, I_2, I_4, I_6, I_8, I_22, -I_22/3 + I_2=2, I_3-3, -3*I_3-3/5 + I_3\\equiv3, I_42, -I_42/3 + I_4=2, I_24, -I_24/3 + I_2=4, I_44, -I_44/3 + I_4=4, 3*I_44/35 - 6*I_4=4/7 + I_4==4, I_222, -I_222/3 + I_2=22, I_2-2-2- + 2*I_222/9 - I_2=22]])"
      ]
     },
     "metadata": {},
     "output_type": "display_data"
    },
    {
     "data": {
      "text/latex": [
       "$\\displaystyle \\left[\\begin{array}{ccccccccccccccccccc}1 & I_{2} & I_{4} & I_{6} & I_{8} & I_{22} & I_{2=2} & I_{3-3} & I_{3\\equiv3} & I_{42} & I_{4=2} & I_{24} & I_{2=4} & I_{44} & I_{4=4} & I_{4==4} & I_{222} & I_{2=22} & I_{2-2-2-}\\\\1 & J_{2} & J_{4} & J_{6} & J_{8} & J_{22} & \\frac{J_{22}}{3} + J_{2=2} & J_{3-3} & \\frac{3 J_{3-3}}{5} + J_{3\\equiv3} & J_{42} & \\frac{J_{42}}{3} + J_{4=2} & J_{24} & \\frac{J_{24}}{3} + J_{2=4} & J_{44} & \\frac{J_{44}}{3} + J_{4=4} & \\frac{J_{44}}{5} + \\frac{6 J_{4=4}}{7} + J_{4==4} & J_{222} & \\frac{J_{222}}{3} + J_{2=22} & J_{2-2-2-} + \\frac{J_{222}}{9} + J_{2=22}\\end{array}\\right]$"
      ],
      "text/plain": [
       "Matrix([\n",
       "[1, I_2, I_4, I_6, I_8, I_22,          I_2=2, I_3-3,             I_3\\equiv3, I_42,          I_4=2, I_24,          I_2=4, I_44,          I_4=4,                      I_4==4, I_222,           I_2=22,                    I_2-2-2-],\n",
       "[1, J_2, J_4, J_6, J_8, J_22, J_22/3 + J_2=2, J_3-3, 3*J_3-3/5 + J_3\\equiv3, J_42, J_42/3 + J_4=2, J_24, J_24/3 + J_2=4, J_44, J_44/3 + J_4=4, J_44/5 + 6*J_4=4/7 + J_4==4, J_222, J_222/3 + J_2=22, J_2-2-2- + J_222/9 + J_2=22]])"
      ]
     },
     "metadata": {},
     "output_type": "display_data"
    }
   ],
   "source": [
    "display(sympy.Matrix(its.symbol_JtoI()).T)\n",
    "display(sympy.Matrix(its.symbol_ItoJ()).T)"
   ]
  },
  {
   "cell_type": "markdown",
   "id": "54890742",
   "metadata": {},
   "source": [
    "# Covariance Matrices\n",
    "To write the high dimensional Gaussian distribution of the tidal tensor, we need to write its covariance matrix in terms of Isotropic tensors. Conveniently the Covariance matrix is a full symmetric (in all indices) isotropic tensor. For example:"
   ]
  },
  {
   "cell_type": "code",
   "execution_count": 10,
   "id": "a4140ce3",
   "metadata": {},
   "outputs": [
    {
     "name": "stdout",
     "output_type": "stream",
     "text": [
      "Decomposition of J4 in the (2,2) symmetric basis:\n"
     ]
    },
    {
     "data": {
      "text/latex": [
       "$\\displaystyle \\frac{5 J_{22}}{9} + \\frac{2 J_{2=2}}{3}$"
      ],
      "text/plain": [
       "5*J_22/9 + 2*J_2=2/3"
      ]
     },
     "metadata": {},
     "output_type": "display_data"
    },
    {
     "name": "stdout",
     "output_type": "stream",
     "text": [
      "The covariance matrix of the tidal tensor is exactly J4 * sigma**2/5 -- as explained in the paper\n"
     ]
    },
    {
     "data": {
      "text/latex": [
       "$\\displaystyle \\left[\\begin{matrix}\\frac{\\sigma_{0}^{2} J_{22}}{9} + \\frac{2 \\sigma_{0}^{2} J_{2=2}}{15}\\end{matrix}\\right]$"
      ],
      "text/plain": [
       "Matrix([[sigma0**2*J_22/9 + 2*sigma0**2*J_2=2/15]])"
      ]
     },
     "metadata": {},
     "output_type": "display_data"
    }
   ],
   "source": [
    "J4_in22 = its.symbol_decompose(its(\"J4\"), \"22\") \n",
    "print(\"Decomposition of J4 in the (2,2) symmetric basis:\")\n",
    "display(J4_in22)\n",
    "print(\"The covariance matrix of the tidal tensor is exactly J4 * sigma**2/5 -- as explained in the paper\")\n",
    "display(its.covariance_matrix((2,), decomposed=True)[0])"
   ]
  },
  {
   "cell_type": "code",
   "execution_count": 11,
   "id": "c46ab1d6",
   "metadata": {},
   "outputs": [
    {
     "name": "stdout",
     "output_type": "stream",
     "text": [
      "Here the covariance matrix of third derivatives of the potential\n"
     ]
    },
    {
     "data": {
      "text/latex": [
       "$\\displaystyle \\left[\\begin{matrix}\\frac{3 \\sigma_{1}^{2} J_{3-3}}{25} + \\frac{2 \\sigma_{1}^{2} J_{3\\equiv3}}{35}\\end{matrix}\\right]$"
      ],
      "text/plain": [
       "Matrix([[3*sigma1**2*J_3-3/25 + 2*sigma1**2*J_3\\equiv3/35]])"
      ]
     },
     "metadata": {},
     "output_type": "display_data"
    },
    {
     "name": "stdout",
     "output_type": "stream",
     "text": [
      "Second and fourth derivatives:\n"
     ]
    },
    {
     "data": {
      "text/latex": [
       "$\\displaystyle \\left[\\begin{matrix}\\frac{\\sigma_{0}^{2} J_{22}}{9} + \\frac{2 \\sigma_{0}^{2} J_{2=2}}{15} & - \\frac{\\sigma_{1}^{2} J_{24}}{15} - \\frac{4 \\sigma_{1}^{2} J_{2=4}}{35}\\\\- \\frac{\\sigma_{1}^{2} J_{42}}{15} - \\frac{4 \\sigma_{1}^{2} J_{4=2}}{35} & \\frac{\\sigma_{2}^{2} J_{44}}{25} + \\frac{24 \\sigma_{2}^{2} J_{4=4}}{245} + \\frac{8 \\sigma_{2}^{2} J_{4==4}}{315}\\end{matrix}\\right]$"
      ],
      "text/plain": [
       "Matrix([\n",
       "[  sigma0**2*J_22/9 + 2*sigma0**2*J_2=2/15,                           -sigma1**2*J_24/15 - 4*sigma1**2*J_2=4/35],\n",
       "[-sigma1**2*J_42/15 - 4*sigma1**2*J_4=2/35, sigma2**2*J_44/25 + 24*sigma2**2*J_4=4/245 + 8*sigma2**2*J_4==4/315]])"
      ]
     },
     "metadata": {},
     "output_type": "display_data"
    },
    {
     "name": "stdout",
     "output_type": "stream",
     "text": [
      "Second, third and fourth:\n"
     ]
    },
    {
     "data": {
      "text/latex": [
       "$\\displaystyle \\left[\\begin{matrix}\\frac{\\sigma_{0}^{2} J_{22}}{9} + \\frac{2 \\sigma_{0}^{2} J_{2=2}}{15} & 0 & - \\frac{\\sigma_{1}^{2} J_{24}}{15} - \\frac{4 \\sigma_{1}^{2} J_{2=4}}{35}\\\\0 & \\frac{3 \\sigma_{1}^{2} J_{3-3}}{25} + \\frac{2 \\sigma_{1}^{2} J_{3\\equiv3}}{35} & 0\\\\- \\frac{\\sigma_{1}^{2} J_{42}}{15} - \\frac{4 \\sigma_{1}^{2} J_{4=2}}{35} & 0 & \\frac{\\sigma_{2}^{2} J_{44}}{25} + \\frac{24 \\sigma_{2}^{2} J_{4=4}}{245} + \\frac{8 \\sigma_{2}^{2} J_{4==4}}{315}\\end{matrix}\\right]$"
      ],
      "text/plain": [
       "Matrix([\n",
       "[  sigma0**2*J_22/9 + 2*sigma0**2*J_2=2/15,                                                0,                           -sigma1**2*J_24/15 - 4*sigma1**2*J_2=4/35],\n",
       "[                                        0, 3*sigma1**2*J_3-3/25 + 2*sigma1**2*J_3\\equiv3/35,                                                                   0],\n",
       "[-sigma1**2*J_42/15 - 4*sigma1**2*J_4=2/35,                                                0, sigma2**2*J_44/25 + 24*sigma2**2*J_4=4/245 + 8*sigma2**2*J_4==4/315]])"
      ]
     },
     "metadata": {},
     "output_type": "display_data"
    }
   ],
   "source": [
    "print(\"Here the covariance matrix of third derivatives of the potential\")\n",
    "display(its.covariance_matrix((3,), decomposed=True)[0])\n",
    "print(\"Second and fourth derivatives:\")\n",
    "display(its.covariance_matrix((2,4), decomposed=True)[0])\n",
    "print(\"Second, third and fourth:\")\n",
    "display(its.covariance_matrix((2,3,4), decomposed=True)[0]) # Note that the covariance between even and uneven derivatives is zero"
   ]
  },
  {
   "cell_type": "markdown",
   "id": "1c5cc21c",
   "metadata": {},
   "source": [
    "# Pseudo inverse Covariance Matrices\n",
    "To write the [degenrate multivariate distribution](https://en.wikipedia.org/wiki/Multivariate_normal_distribution#Degenerate_case) of the tidal tensor, we need to infer the [generalized inverse](https://en.wikipedia.org/wiki/Generalized_inverse) $\\mathbf{C}^+$ of the covariance matrix $\\mathbf{C}$. It has the property\n",
    "\n",
    "$\\mathbf{C} \\mathbf{C}^+ \\mathbf{C} = \\mathbf{C}$\n",
    "\n",
    "A generalized inverse can be found by making a parametric Ansatz for $\\mathbf{C}^+$ and then solving the corresponding system of equations. Here, we only show that the generalized inverse that we calculated in the code has indeed this property"
   ]
  },
  {
   "cell_type": "code",
   "execution_count": 12,
   "id": "5f4c8d6a",
   "metadata": {},
   "outputs": [
    {
     "data": {
      "text/latex": [
       "$\\displaystyle \\left[\\begin{matrix}\\frac{J_{22}}{\\sigma_{0}^{2}} + \\frac{15 J_{2=2}}{2 \\sigma_{0}^{2}}\\end{matrix}\\right]$"
      ],
      "text/plain": [
       "Matrix([[J_22/sigma0**2 + 15*J_2=2/(2*sigma0**2)]])"
      ]
     },
     "metadata": {},
     "output_type": "display_data"
    }
   ],
   "source": [
    "CTT, sigma = its.pseudo_inverse_covariance_matrix((2,))\n",
    "display(CTT)"
   ]
  },
  {
   "cell_type": "code",
   "execution_count": 13,
   "id": "9130e3b0",
   "metadata": {},
   "outputs": [
    {
     "name": "stdout",
     "output_type": "stream",
     "text": [
      "The difference is:\n",
      "6.661338147750939e-16   (~0 up to floating point errors)\n"
     ]
    }
   ],
   "source": [
    "sig = 3. # Can put anything you like here\n",
    "C_TT = (sig**2/5.) * its(\"J4\").N()\n",
    "C_TTinv = its(\"J22\").N() * (1./sig**2) + its(\"J2=2\").N() * (15./2./sig**2)\n",
    "\n",
    "Cnew = np.einsum(\"abij,ijkl,klcd\", C_TT, C_TTinv, C_TT)\n",
    "\n",
    "print(\"The difference is:\")\n",
    "print(np.max(np.abs(C_TT - Cnew)), \"  (~0 up to floating point errors)\") "
   ]
  },
  {
   "cell_type": "markdown",
   "id": "b7e2788d",
   "metadata": {},
   "source": [
    "Here the other generalized inverses, feel free to check them yourself:"
   ]
  },
  {
   "cell_type": "code",
   "execution_count": 14,
   "id": "78b8697f",
   "metadata": {},
   "outputs": [
    {
     "data": {
      "text/latex": [
       "$\\displaystyle \\left[\\begin{matrix}\\frac{3 J_{3-3}}{\\sigma_{1}^{2}} + \\frac{35 J_{3\\equiv3}}{2 \\sigma_{1}^{2}}\\end{matrix}\\right]$"
      ],
      "text/plain": [
       "Matrix([[3*J_3-3/sigma1**2 + 35*J_3\\equiv3/(2*sigma1**2)]])"
      ]
     },
     "metadata": {},
     "output_type": "display_data"
    },
    {
     "name": "stdout",
     "output_type": "stream",
     "text": [
      "1.1102230246251565e-16   (~0 up to floating point errors)\n"
     ]
    }
   ],
   "source": [
    "display(its.pseudo_inverse_covariance_matrix((3,))[0])\n",
    "sig1 = 1. # Can put anything you like here\n",
    "C_SS = its(\"J6\").N() * sig1**2 / 7.\n",
    "C_SSinv = its(\"J3-3\").N() * (3./sig1**2) + its(\"J3---3\").N() * (35./2./sig1**2)\n",
    "Cnew = np.einsum(\"abcijk,ijklmn,lmndef\", C_SS, C_SSinv, C_SS)\n",
    "\n",
    "print(np.max(np.abs(C_SS - Cnew)), \"  (~0 up to floating point errors)\")"
   ]
  },
  {
   "cell_type": "code",
   "execution_count": 15,
   "id": "e8878149",
   "metadata": {},
   "outputs": [
    {
     "data": {
      "text/latex": [
       "$\\displaystyle \\left[\\begin{matrix}\\frac{\\sigma_{0}^{2} J_{22}}{9} + \\frac{2 \\sigma_{0}^{2} J_{2=2}}{15} & - \\frac{\\sigma_{1}^{2} J_{24}}{15} - \\frac{4 \\sigma_{1}^{2} J_{2=4}}{35}\\\\- \\frac{\\sigma_{1}^{2} J_{42}}{15} - \\frac{4 \\sigma_{1}^{2} J_{4=2}}{35} & \\frac{\\sigma_{2}^{2} J_{44}}{25} + \\frac{24 \\sigma_{2}^{2} J_{4=4}}{245} + \\frac{8 \\sigma_{2}^{2} J_{4==4}}{315}\\end{matrix}\\right]$"
      ],
      "text/plain": [
       "Matrix([\n",
       "[  sigma0**2*J_22/9 + 2*sigma0**2*J_2=2/15,                           -sigma1**2*J_24/15 - 4*sigma1**2*J_2=4/35],\n",
       "[-sigma1**2*J_42/15 - 4*sigma1**2*J_4=2/35, sigma2**2*J_44/25 + 24*sigma2**2*J_4=4/245 + 8*sigma2**2*J_4==4/315]])"
      ]
     },
     "metadata": {},
     "output_type": "display_data"
    },
    {
     "data": {
      "text/latex": [
       "$\\displaystyle \\left[\\begin{matrix}\\frac{15 \\sigma_{2}^{2} J_{2=2}}{2 \\sigma_{0}^{2} \\sigma_{2}^{2} - 2 \\sigma_{1}^{4}} + \\frac{\\sigma_{2}^{2} J_{22}}{\\sigma_{0}^{2} \\sigma_{2}^{2} - \\sigma_{1}^{4}} & \\frac{15 \\sigma_{1}^{2} J_{2=4}}{2 \\sigma_{0}^{2} \\sigma_{2}^{2} - 2 \\sigma_{1}^{4}} + \\frac{\\sigma_{1}^{2} J_{24}}{\\sigma_{0}^{2} \\sigma_{2}^{2} - \\sigma_{1}^{4}}\\\\\\frac{15 \\sigma_{1}^{2} J_{4=2}}{2 \\sigma_{0}^{2} \\sigma_{2}^{2} - 2 \\sigma_{1}^{4}} + \\frac{\\sigma_{1}^{2} J_{42}}{\\sigma_{0}^{2} \\sigma_{2}^{2} - \\sigma_{1}^{4}} & \\frac{15 \\sigma_{0}^{2} J_{4=4}}{2 \\sigma_{0}^{2} \\sigma_{2}^{2} - 2 \\sigma_{1}^{4}} + \\frac{\\sigma_{0}^{2} J_{44}}{\\sigma_{0}^{2} \\sigma_{2}^{2} - \\sigma_{1}^{4}} + \\frac{315 J_{4==4}}{8 \\sigma_{2}^{2}}\\end{matrix}\\right]$"
      ],
      "text/plain": [
       "Matrix([\n",
       "[15*sigma2**2*J_2=2/(2*sigma0**2*sigma2**2 - 2*sigma1**4) + sigma2**2*J_22/(sigma0**2*sigma2**2 - sigma1**4),                            15*sigma1**2*J_2=4/(2*sigma0**2*sigma2**2 - 2*sigma1**4) + sigma1**2*J_24/(sigma0**2*sigma2**2 - sigma1**4)],\n",
       "[15*sigma1**2*J_4=2/(2*sigma0**2*sigma2**2 - 2*sigma1**4) + sigma1**2*J_42/(sigma0**2*sigma2**2 - sigma1**4), 15*sigma0**2*J_4=4/(2*sigma0**2*sigma2**2 - 2*sigma1**4) + sigma0**2*J_44/(sigma0**2*sigma2**2 - sigma1**4) + 315*J_4==4/(8*sigma2**2)]])"
      ]
     },
     "metadata": {},
     "output_type": "display_data"
    }
   ],
   "source": [
    "# For the 4-2 covariance block-matrix it is not so easy to get it into numpy format\n",
    "# we'll work with a symbolic representation of the tensor algebra\n",
    "CTR, sigs = its.covariance_matrix((2,4))\n",
    "CTRinv, sigs = its.pseudo_inverse_covariance_matrix((2,4))\n",
    "display(CTR)\n",
    "display(CTRinv)"
   ]
  },
  {
   "cell_type": "code",
   "execution_count": 16,
   "id": "f564f10b",
   "metadata": {},
   "outputs": [
    {
     "data": {
      "text/latex": [
       "$\\displaystyle \\left[\\begin{matrix}\\frac{3 \\sigma_{0}^{2} \\sigma_{2}^{2} J_{22}}{9 \\sigma_{0}^{2} \\sigma_{2}^{2} - 9 \\sigma_{1}^{4}} + \\frac{2 \\sigma_{0}^{2} \\sigma_{2}^{2} J_{2=2}}{2 \\sigma_{0}^{2} \\sigma_{2}^{2} - 2 \\sigma_{1}^{4}} - \\frac{5 \\sigma_{1}^{4} J_{22}}{15 \\sigma_{0}^{2} \\sigma_{2}^{2} - 15 \\sigma_{1}^{4}} - \\frac{14 \\sigma_{1}^{4} J_{2=2}}{14 \\sigma_{0}^{2} \\sigma_{2}^{2} - 14 \\sigma_{1}^{4}} & - \\frac{5 \\sigma_{0}^{2} \\sigma_{1}^{2} J_{24}}{15 \\sigma_{0}^{2} \\sigma_{2}^{2} - 15 \\sigma_{1}^{4}} - \\frac{14 \\sigma_{0}^{2} \\sigma_{1}^{2} J_{2=4}}{14 \\sigma_{0}^{2} \\sigma_{2}^{2} - 14 \\sigma_{1}^{4}} + \\frac{3 \\sigma_{0}^{2} \\sigma_{1}^{2} J_{24}}{9 \\sigma_{0}^{2} \\sigma_{2}^{2} - 9 \\sigma_{1}^{4}} + \\frac{2 \\sigma_{0}^{2} \\sigma_{1}^{2} J_{2=4}}{2 \\sigma_{0}^{2} \\sigma_{2}^{2} - 2 \\sigma_{1}^{4}}\\\\\\frac{84 \\sigma_{1}^{2} \\sigma_{2}^{2} J_{4=2}}{98 \\sigma_{0}^{2} \\sigma_{2}^{2} - 98 \\sigma_{1}^{4}} + \\frac{5 \\sigma_{1}^{2} \\sigma_{2}^{2} J_{42}}{25 \\sigma_{0}^{2} \\sigma_{2}^{2} - 25 \\sigma_{1}^{4}} - \\frac{3 \\sigma_{1}^{2} \\sigma_{2}^{2} J_{42}}{15 \\sigma_{0}^{2} \\sigma_{2}^{2} - 15 \\sigma_{1}^{4}} - \\frac{12 \\sigma_{1}^{2} \\sigma_{2}^{2} J_{4=2}}{14 \\sigma_{0}^{2} \\sigma_{2}^{2} - 14 \\sigma_{1}^{4}} & \\frac{84 \\sigma_{0}^{2} \\sigma_{2}^{2} J_{4=4}}{98 \\sigma_{0}^{2} \\sigma_{2}^{2} - 98 \\sigma_{1}^{4}} + \\frac{5 \\sigma_{0}^{2} \\sigma_{2}^{2} J_{44}}{25 \\sigma_{0}^{2} \\sigma_{2}^{2} - 25 \\sigma_{1}^{4}} - \\frac{3 \\sigma_{1}^{4} J_{44}}{15 \\sigma_{0}^{2} \\sigma_{2}^{2} - 15 \\sigma_{1}^{4}} - \\frac{12 \\sigma_{1}^{4} J_{4=4}}{14 \\sigma_{0}^{2} \\sigma_{2}^{2} - 14 \\sigma_{1}^{4}} + J_{4==4}\\end{matrix}\\right]$"
      ],
      "text/plain": [
       "Matrix([\n",
       "[                         3*sigma0**2*sigma2**2*J_22/(9*sigma0**2*sigma2**2 - 9*sigma1**4) + 2*sigma0**2*sigma2**2*J_2=2/(2*sigma0**2*sigma2**2 - 2*sigma1**4) - 5*sigma1**4*J_22/(15*sigma0**2*sigma2**2 - 15*sigma1**4) - 14*sigma1**4*J_2=2/(14*sigma0**2*sigma2**2 - 14*sigma1**4), -5*sigma0**2*sigma1**2*J_24/(15*sigma0**2*sigma2**2 - 15*sigma1**4) - 14*sigma0**2*sigma1**2*J_2=4/(14*sigma0**2*sigma2**2 - 14*sigma1**4) + 3*sigma0**2*sigma1**2*J_24/(9*sigma0**2*sigma2**2 - 9*sigma1**4) + 2*sigma0**2*sigma1**2*J_2=4/(2*sigma0**2*sigma2**2 - 2*sigma1**4)],\n",
       "[84*sigma1**2*sigma2**2*J_4=2/(98*sigma0**2*sigma2**2 - 98*sigma1**4) + 5*sigma1**2*sigma2**2*J_42/(25*sigma0**2*sigma2**2 - 25*sigma1**4) - 3*sigma1**2*sigma2**2*J_42/(15*sigma0**2*sigma2**2 - 15*sigma1**4) - 12*sigma1**2*sigma2**2*J_4=2/(14*sigma0**2*sigma2**2 - 14*sigma1**4),        84*sigma0**2*sigma2**2*J_4=4/(98*sigma0**2*sigma2**2 - 98*sigma1**4) + 5*sigma0**2*sigma2**2*J_44/(25*sigma0**2*sigma2**2 - 25*sigma1**4) - 3*sigma1**4*J_44/(15*sigma0**2*sigma2**2 - 15*sigma1**4) - 12*sigma1**4*J_4=4/(14*sigma0**2*sigma2**2 - 14*sigma1**4) + J_4==4]])"
      ]
     },
     "metadata": {},
     "output_type": "display_data"
    }
   ],
   "source": [
    "# its.orth_algebra contains all the symbolic substitutions that we can make\n",
    "# based on a precomputed algebra as explained above \n",
    "CTR_CTRinv = sympy.expand(CTR *  CTRinv).subs(its.orth_algebra)\n",
    "display(CTR_CTRinv)"
   ]
  },
  {
   "cell_type": "code",
   "execution_count": 17,
   "id": "a51ddac0",
   "metadata": {},
   "outputs": [
    {
     "data": {
      "text/latex": [
       "$\\displaystyle \\left[\\begin{matrix}\\frac{4 \\sigma_{0}^{4} \\sigma_{2}^{2} J_{2=2}}{30 \\sigma_{0}^{2} \\sigma_{2}^{2} - 30 \\sigma_{1}^{4}} + \\frac{3 \\sigma_{0}^{4} \\sigma_{2}^{2} J_{22}}{27 \\sigma_{0}^{2} \\sigma_{2}^{2} - 27 \\sigma_{1}^{4}} - \\frac{28 \\sigma_{0}^{2} \\sigma_{1}^{4} J_{2=2}}{210 \\sigma_{0}^{2} \\sigma_{2}^{2} - 210 \\sigma_{1}^{4}} - \\frac{15 \\sigma_{0}^{2} \\sigma_{1}^{4} J_{22}}{135 \\sigma_{0}^{2} \\sigma_{2}^{2} - 135 \\sigma_{1}^{4}} & \\frac{15 \\sigma_{0}^{2} \\sigma_{1}^{2} \\sigma_{2}^{2} J_{24}}{225 \\sigma_{0}^{2} \\sigma_{2}^{2} - 225 \\sigma_{1}^{4}} - \\frac{5 \\sigma_{0}^{2} \\sigma_{1}^{2} \\sigma_{2}^{2} J_{24}}{75 \\sigma_{0}^{2} \\sigma_{2}^{2} - 75 \\sigma_{1}^{4}} - \\frac{8 \\sigma_{0}^{2} \\sigma_{1}^{2} \\sigma_{2}^{2} J_{2=4}}{70 \\sigma_{0}^{2} \\sigma_{2}^{2} - 70 \\sigma_{1}^{4}} - \\frac{3 \\sigma_{0}^{2} \\sigma_{1}^{2} \\sigma_{2}^{2} J_{24}}{45 \\sigma_{0}^{2} \\sigma_{2}^{2} - 45 \\sigma_{1}^{4}} + \\frac{8 \\sigma_{1}^{6} J_{2=4}}{70 \\sigma_{0}^{2} \\sigma_{2}^{2} - 70 \\sigma_{1}^{4}} + \\frac{3 \\sigma_{1}^{6} J_{24}}{45 \\sigma_{0}^{2} \\sigma_{2}^{2} - 45 \\sigma_{1}^{4}}\\\\\\frac{15 \\sigma_{0}^{2} \\sigma_{1}^{2} \\sigma_{2}^{2} J_{42}}{225 \\sigma_{0}^{2} \\sigma_{2}^{2} - 225 \\sigma_{1}^{4}} - \\frac{5 \\sigma_{0}^{2} \\sigma_{1}^{2} \\sigma_{2}^{2} J_{42}}{75 \\sigma_{0}^{2} \\sigma_{2}^{2} - 75 \\sigma_{1}^{4}} - \\frac{8 \\sigma_{0}^{2} \\sigma_{1}^{2} \\sigma_{2}^{2} J_{4=2}}{70 \\sigma_{0}^{2} \\sigma_{2}^{2} - 70 \\sigma_{1}^{4}} - \\frac{3 \\sigma_{0}^{2} \\sigma_{1}^{2} \\sigma_{2}^{2} J_{42}}{45 \\sigma_{0}^{2} \\sigma_{2}^{2} - 45 \\sigma_{1}^{4}} + \\frac{56 \\sigma_{1}^{6} J_{4=2}}{490 \\sigma_{0}^{2} \\sigma_{2}^{2} - 490 \\sigma_{1}^{4}} + \\frac{5 \\sigma_{1}^{6} J_{42}}{75 \\sigma_{0}^{2} \\sigma_{2}^{2} - 75 \\sigma_{1}^{4}} & \\frac{336 \\sigma_{0}^{2} \\sigma_{2}^{4} J_{4=4}}{3430 \\sigma_{0}^{2} \\sigma_{2}^{2} - 3430 \\sigma_{1}^{4}} + \\frac{5 \\sigma_{0}^{2} \\sigma_{2}^{4} J_{44}}{125 \\sigma_{0}^{2} \\sigma_{2}^{2} - 125 \\sigma_{1}^{4}} - \\frac{336 \\sigma_{1}^{4} \\sigma_{2}^{2} J_{4=4}}{3430 \\sigma_{0}^{2} \\sigma_{2}^{2} - 3430 \\sigma_{1}^{4}} - \\frac{15 \\sigma_{1}^{4} \\sigma_{2}^{2} J_{44}}{375 \\sigma_{0}^{2} \\sigma_{2}^{2} - 375 \\sigma_{1}^{4}} + \\frac{8 \\sigma_{2}^{2} J_{4==4}}{315}\\end{matrix}\\right]$"
      ],
      "text/plain": [
       "Matrix([\n",
       "[                                                                                                                                                              4*sigma0**4*sigma2**2*J_2=2/(30*sigma0**2*sigma2**2 - 30*sigma1**4) + 3*sigma0**4*sigma2**2*J_22/(27*sigma0**2*sigma2**2 - 27*sigma1**4) - 28*sigma0**2*sigma1**4*J_2=2/(210*sigma0**2*sigma2**2 - 210*sigma1**4) - 15*sigma0**2*sigma1**4*J_22/(135*sigma0**2*sigma2**2 - 135*sigma1**4), 15*sigma0**2*sigma1**2*sigma2**2*J_24/(225*sigma0**2*sigma2**2 - 225*sigma1**4) - 5*sigma0**2*sigma1**2*sigma2**2*J_24/(75*sigma0**2*sigma2**2 - 75*sigma1**4) - 8*sigma0**2*sigma1**2*sigma2**2*J_2=4/(70*sigma0**2*sigma2**2 - 70*sigma1**4) - 3*sigma0**2*sigma1**2*sigma2**2*J_24/(45*sigma0**2*sigma2**2 - 45*sigma1**4) + 8*sigma1**6*J_2=4/(70*sigma0**2*sigma2**2 - 70*sigma1**4) + 3*sigma1**6*J_24/(45*sigma0**2*sigma2**2 - 45*sigma1**4)],\n",
       "[15*sigma0**2*sigma1**2*sigma2**2*J_42/(225*sigma0**2*sigma2**2 - 225*sigma1**4) - 5*sigma0**2*sigma1**2*sigma2**2*J_42/(75*sigma0**2*sigma2**2 - 75*sigma1**4) - 8*sigma0**2*sigma1**2*sigma2**2*J_4=2/(70*sigma0**2*sigma2**2 - 70*sigma1**4) - 3*sigma0**2*sigma1**2*sigma2**2*J_42/(45*sigma0**2*sigma2**2 - 45*sigma1**4) + 56*sigma1**6*J_4=2/(490*sigma0**2*sigma2**2 - 490*sigma1**4) + 5*sigma1**6*J_42/(75*sigma0**2*sigma2**2 - 75*sigma1**4),                                                                                                                        336*sigma0**2*sigma2**4*J_4=4/(3430*sigma0**2*sigma2**2 - 3430*sigma1**4) + 5*sigma0**2*sigma2**4*J_44/(125*sigma0**2*sigma2**2 - 125*sigma1**4) - 336*sigma1**4*sigma2**2*J_4=4/(3430*sigma0**2*sigma2**2 - 3430*sigma1**4) - 15*sigma1**4*sigma2**2*J_44/(375*sigma0**2*sigma2**2 - 375*sigma1**4) + 8*sigma2**2*J_4==4/315]])"
      ]
     },
     "metadata": {},
     "output_type": "display_data"
    }
   ],
   "source": [
    "Cnew = sympy.expand(CTR_CTRinv * CTR).subs(its.orth_algebra)\n",
    "display(Cnew)"
   ]
  },
  {
   "cell_type": "code",
   "execution_count": 18,
   "id": "f2772c5f",
   "metadata": {},
   "outputs": [
    {
     "data": {
      "text/latex": [
       "$\\displaystyle \\left[\\begin{matrix}0 & 0\\\\0 & 0\\end{matrix}\\right]$"
      ],
      "text/plain": [
       "Matrix([\n",
       "[0, 0],\n",
       "[0, 0]])"
      ]
     },
     "execution_count": 18,
     "metadata": {},
     "output_type": "execute_result"
    }
   ],
   "source": [
    "# Show that this equals CTR\n",
    "sympy.simplify(Cnew - CTR)"
   ]
  },
  {
   "cell_type": "code",
   "execution_count": 19,
   "id": "667b2411",
   "metadata": {},
   "outputs": [
    {
     "name": "stdout",
     "output_type": "stream",
     "text": [
      "\\left[\\begin{matrix}\\frac{15 \\sigma_{2}^{2} J_{2=2}}{2 \\sigma_{0}^{2} \\sigma_{2}^{2} - 2 \\sigma_{1}^{4}} + \\frac{\\sigma_{2}^{2} J_{22}}{\\sigma_{0}^{2} \\sigma_{2}^{2} - \\sigma_{1}^{4}} & \\frac{15 \\sigma_{1}^{2} J_{2=4}}{2 \\sigma_{0}^{2} \\sigma_{2}^{2} - 2 \\sigma_{1}^{4}} + \\frac{\\sigma_{1}^{2} J_{24}}{\\sigma_{0}^{2} \\sigma_{2}^{2} - \\sigma_{1}^{4}}\\\\\\frac{15 \\sigma_{1}^{2} J_{4=2}}{2 \\sigma_{0}^{2} \\sigma_{2}^{2} - 2 \\sigma_{1}^{4}} + \\frac{\\sigma_{1}^{2} J_{42}}{\\sigma_{0}^{2} \\sigma_{2}^{2} - \\sigma_{1}^{4}} & \\frac{15 \\sigma_{0}^{2} J_{4=4}}{2 \\sigma_{0}^{2} \\sigma_{2}^{2} - 2 \\sigma_{1}^{4}} + \\frac{\\sigma_{0}^{2} J_{44}}{\\sigma_{0}^{2} \\sigma_{2}^{2} - \\sigma_{1}^{4}} + \\frac{315 J_{4==4}}{8 \\sigma_{2}^{2}}\\end{matrix}\\right]\n"
     ]
    }
   ],
   "source": [
    "# To get a latex representation, we can do for example:\n",
    "print(sympy.printing.latex(its.pseudo_inverse_covariance_matrix((2,4))[0]))"
   ]
  }
 ],
 "metadata": {
  "kernelspec": {
   "display_name": "Python [conda env:jupyter] *",
   "language": "python",
   "name": "conda-env-jupyter-py"
  },
  "language_info": {
   "codemirror_mode": {
    "name": "ipython",
    "version": 3
   },
   "file_extension": ".py",
   "mimetype": "text/x-python",
   "name": "python",
   "nbconvert_exporter": "python",
   "pygments_lexer": "ipython3",
   "version": "3.8.5"
  }
 },
 "nbformat": 4,
 "nbformat_minor": 5
}
