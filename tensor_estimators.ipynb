{
 "cells": [
  {
   "cell_type": "code",
   "execution_count": 1,
   "id": "15d53845",
   "metadata": {},
   "outputs": [],
   "source": [
    "import sympy\n",
    "import numpy as np\n",
    "import isotropic_tensors as it\n",
    "\n",
    "its = it.IsotropicTensorSystem(usecache=True)"
   ]
  },
  {
   "cell_type": "markdown",
   "id": "59a61781",
   "metadata": {},
   "source": [
    "Please have a look at [tensor algebra notebook](./tensor_algebra.ipynb) to get some understanding of the isotropic tensor before reading this\n",
    "\n",
    "The distribution of e.g. the tidal tensor is given by\n",
    "$$p(\\mathbf{T}) = N \\exp \\left(- \\frac{1}{2} \\mathbf{T}^T \\mathbf{C}_{\\mathbf{T}}^+ \\mathbf{T} \\right)$$\n",
    "where it is shown in the [tensor algebra notebook](./tensor_algebra.ipynb) how to understand $\\mathbf{C}_{\\mathbf{T}}^+$. <br> Bias parameters are given by:\n",
    "$$b_{\\mathbf{J}_{X}} = (-1)^N \\left\\langle\\frac{1}{p} \\frac{\\partial p}{\\partial \\mathbf{T}^N} \\cdot^{(2N)} \\frac{\\mathbf{J}_{X}}{||{ \\mathbf{J}_X }||^2}\\right\\rangle_g$$\n",
    "The first and second derivative of $p$ are:\n",
    "$$\\frac{1}{p} \\frac{\\partial p}{\\partial \\mathbf{T}} =  - \\mathbf{C}_{\\mathbf{T}}^+ \\mathbf{T}$$\n",
    "$$\\frac{1}{p} \\frac{\\partial^2 p}{\\partial \\mathbf{T}^2} = (\\mathbf{T} \\mathbf{C}_{\\mathbf{T}}^+) \\otimes (\\mathbf{C}_{\\mathbf{T}}^+ \\mathbf{T}) - \\mathbf{C}_{\\mathbf{T}}^+$$\n",
    "Therefore, we just need to contract these derivatives with the isotropic tensor of interest to get a bias estimator"
   ]
  },
  {
   "cell_type": "code",
   "execution_count": 2,
   "id": "e2b75c65",
   "metadata": {},
   "outputs": [
    {
     "name": "stdout",
     "output_type": "stream",
     "text": [
      "If we consider only the distribution of the tidal tensor (as written above), then the derivative is\n"
     ]
    },
    {
     "data": {
      "text/latex": [
       "$\\displaystyle \\frac{J_{2} T}{\\sigma_{0}^{2}}$"
      ],
      "text/plain": [
       "J_2*T/sigma0**2"
      ]
     },
     "metadata": {},
     "output_type": "display_data"
    }
   ],
   "source": [
    "print(\"If we consider only the distribution of the tidal tensor (as written above), then the derivative is\")\n",
    "display(its.symbol_bias_deriv1(\"J2\", potderiv=(2,)))"
   ]
  },
  {
   "cell_type": "markdown",
   "id": "b51eeec9",
   "metadata": {},
   "source": [
    "However, for the joint distribution of second ($T$) and fourth ($R$) derivatives, we have\n",
    "$$b_{J_2} = -\\left(\\begin{matrix}\\frac{15 \\sigma_{2}^{2} J_{2=2}}{2 \\sigma_{0}^{2} \\sigma_{2}^{2} - 2 \\sigma_{1}^{4}} + \\frac{\\sigma_{2}^{2} J_{22}}{\\sigma_{0}^{2} \\sigma_{2}^{2} - \\sigma_{1}^{4}} & \\frac{15 \\sigma_{1}^{2} J_{2=4}}{2 \\sigma_{0}^{2} \\sigma_{2}^{2} - 2 \\sigma_{1}^{4}} + \\frac{\\sigma_{1}^{2} J_{24}}{\\sigma_{0}^{2} \\sigma_{2}^{2} - \\sigma_{1}^{4}}\\\\\\frac{15 \\sigma_{1}^{2} J_{4=2}}{2 \\sigma_{0}^{2} \\sigma_{2}^{2} - 2 \\sigma_{1}^{4}} + \\frac{\\sigma_{1}^{2} J_{42}}{\\sigma_{0}^{2} \\sigma_{2}^{2} - \\sigma_{1}^{4}} & \\frac{15 \\sigma_{0}^{2} J_{4=4}}{2 \\sigma_{0}^{2} \\sigma_{2}^{2} - 2 \\sigma_{1}^{4}} + \\frac{\\sigma_{0}^{2} J_{44}}{\\sigma_{0}^{2} \\sigma_{2}^{2} - \\sigma_{1}^{4}} + \\frac{315 J_{4==4}}{8 \\sigma_{2}^{2}}\\end{matrix}\\right)\n",
    "\\begin{pmatrix} T \\\\ R \\end{pmatrix}\n",
    "\\cdot^{(2)} \\frac{J_2}{||J_2||}\n",
    "$$ \n",
    "(Omitting the indicators of the expectation value)<br>\n",
    "This evaluates to:"
   ]
  },
  {
   "cell_type": "code",
   "execution_count": 3,
   "id": "248fb457",
   "metadata": {},
   "outputs": [
    {
     "data": {
      "text/latex": [
       "$\\displaystyle \\frac{\\sigma_{1}^{2} J_{4} R + \\sigma_{2}^{2} J_{2} T}{\\sigma_{0}^{2} \\sigma_{2}^{2} - \\sigma_{1}^{4}}$"
      ],
      "text/plain": [
       "(sigma1**2*J_4*R + sigma2**2*J_2*T)/(sigma0**2*sigma2**2 - sigma1**4)"
      ]
     },
     "metadata": {},
     "output_type": "display_data"
    }
   ],
   "source": [
    "display(its.symbol_bias_deriv1(\"J2\", potderiv=(2,4)))"
   ]
  },
  {
   "cell_type": "markdown",
   "id": "e7924bc6",
   "metadata": {},
   "source": [
    "Where $J_2 T = \\delta$ and $J_4 R = \\nabla^2 \\delta = L$. So the estimator depends on whether higher spatial derivatives variables are considered. <br> We can get all other terms in a similar manner. I have written some functions which do this for us"
   ]
  },
  {
   "cell_type": "code",
   "execution_count": 4,
   "id": "a5bd29a5",
   "metadata": {},
   "outputs": [],
   "source": [
    "deriv1 = its.symbol_bias_deriv1()\n",
    "deriv2 = its.symbol_bias_deriv2()\n",
    "\n",
    "allterm = {**deriv1, **deriv2}"
   ]
  },
  {
   "cell_type": "code",
   "execution_count": 5,
   "id": "fa8b9705",
   "metadata": {},
   "outputs": [
    {
     "data": {
      "text/latex": [
       "$\\displaystyle \\left[\\begin{matrix}J_{2} & \\frac{J_{2} T}{\\sigma_{0}^{2}} & \\frac{\\sigma_{1}^{2} J_{4} S + \\sigma_{2}^{2} J_{2} T}{\\sigma_{0}^{2} \\sigma_{2}^{2} - \\sigma_{1}^{4}}\\\\J_{4} & \\frac{J_{4} S}{\\sigma_{2}^{2}} & \\frac{\\sigma_{0}^{2} J_{4} S + \\sigma_{1}^{2} J_{2} T}{\\sigma_{0}^{2} \\sigma_{2}^{2} - \\sigma_{1}^{4}}\\\\J_{22} & \\frac{- \\sigma_{0}^{2} + J_{22} T^{2}}{\\sigma_{0}^{4}} & \\frac{\\sigma_{1}^{4} J_{44} S^{2} + \\sigma_{1}^{2} \\sigma_{2}^{2} J_{24} T S + \\sigma_{1}^{2} \\sigma_{2}^{2} J_{42} S T + \\sigma_{2}^{4} J_{22} T^{2} - \\sigma_{2}^{2} \\left(\\sigma_{0}^{2} \\sigma_{2}^{2} - \\sigma_{1}^{4}\\right)}{\\left(\\sigma_{0}^{2} \\sigma_{2}^{2} - \\sigma_{1}^{4}\\right)^{2}}\\\\J_{2=2} & \\frac{15 \\left(- 2 \\sigma_{0}^{2} + 3 J_{2=2} T^{2}\\right)}{4 \\sigma_{0}^{4}} & \\frac{15 \\cdot \\left(3 \\sigma_{1}^{4} J_{4=4} S^{2} + 3 \\sigma_{1}^{2} \\sigma_{2}^{2} J_{2=4} T S + 3 \\sigma_{1}^{2} \\sigma_{2}^{2} J_{4=2} S T + 3 \\sigma_{2}^{4} J_{2=2} T^{2} - 2 \\sigma_{2}^{2} \\left(\\sigma_{0}^{2} \\sigma_{2}^{2} - \\sigma_{1}^{4}\\right)\\right)}{4 \\left(\\sigma_{0}^{2} \\sigma_{2}^{2} - \\sigma_{1}^{4}\\right)^{2}}\\\\J_{24} & \\frac{J_{24} T S}{\\sigma_{0}^{2} \\sigma_{2}^{2}} & \\frac{\\sigma_{0}^{2} \\sigma_{1}^{2} J_{44} S^{2} + \\sigma_{0}^{2} \\sigma_{2}^{2} J_{24} T S + \\sigma_{1}^{4} J_{42} S T + \\sigma_{1}^{2} \\sigma_{2}^{2} J_{22} T^{2} - \\sigma_{1}^{2} \\left(\\sigma_{0}^{2} \\sigma_{2}^{2} - \\sigma_{1}^{4}\\right)}{\\left(\\sigma_{0}^{2} \\sigma_{2}^{2} - \\sigma_{1}^{4}\\right)^{2}}\\\\J_{2=4} & \\frac{45 J_{2=4} T S}{4 \\sigma_{0}^{2} \\sigma_{2}^{2}} & \\frac{15 \\cdot \\left(3 \\sigma_{0}^{2} \\sigma_{1}^{2} J_{4=4} S^{2} + 3 \\sigma_{0}^{2} \\sigma_{2}^{2} J_{2=4} T S + 3 \\sigma_{1}^{4} J_{4=2} S T + 3 \\sigma_{1}^{2} \\sigma_{2}^{2} J_{2=2} T^{2} - 2 \\sigma_{1}^{2} \\left(\\sigma_{0}^{2} \\sigma_{2}^{2} - \\sigma_{1}^{4}\\right)\\right)}{4 \\left(\\sigma_{0}^{2} \\sigma_{2}^{2} - \\sigma_{1}^{4}\\right)^{2}}\\\\J_{3-3} & \\frac{3 \\left(- \\sigma_{1}^{2} + J_{3-3} R^{2}\\right)}{\\sigma_{1}^{4}} & \\frac{3 \\left(- \\sigma_{1}^{2} + J_{3-3} R^{2}\\right)}{\\sigma_{1}^{4}}\\\\J_{3\\equiv3} & \\frac{35 \\left(- 2 \\sigma_{1}^{2} + 5 J_{3\\equiv3} R^{2}\\right)}{4 \\sigma_{1}^{4}} & \\frac{35 \\left(- 2 \\sigma_{1}^{2} + 5 J_{3\\equiv3} R^{2}\\right)}{4 \\sigma_{1}^{4}}\\\\J_{44} & \\frac{- \\sigma_{2}^{2} + J_{44} S^{2}}{\\sigma_{2}^{4}} & \\frac{\\sigma_{0}^{4} J_{44} S^{2} + \\sigma_{0}^{2} \\sigma_{1}^{2} J_{24} T S + \\sigma_{0}^{2} \\sigma_{1}^{2} J_{42} S T - \\sigma_{0}^{2} \\left(\\sigma_{0}^{2} \\sigma_{2}^{2} - \\sigma_{1}^{4}\\right) + \\sigma_{1}^{4} J_{22} T^{2}}{\\left(\\sigma_{0}^{2} \\sigma_{2}^{2} - \\sigma_{1}^{4}\\right)^{2}}\\\\J_{4=4} & \\frac{15 \\left(- 2 \\sigma_{2}^{2} + 3 J_{4=4} S^{2}\\right)}{4 \\sigma_{2}^{4}} & \\frac{15 \\cdot \\left(3 \\sigma_{0}^{4} J_{4=4} S^{2} + 3 \\sigma_{0}^{2} \\sigma_{1}^{2} J_{2=4} T S + 3 \\sigma_{0}^{2} \\sigma_{1}^{2} J_{4=2} S T - 2 \\sigma_{0}^{2} \\left(\\sigma_{0}^{2} \\sigma_{2}^{2} - \\sigma_{1}^{4}\\right) + 3 \\sigma_{1}^{4} J_{2=2} T^{2}\\right)}{4 \\left(\\sigma_{0}^{2} \\sigma_{2}^{2} - \\sigma_{1}^{4}\\right)^{2}}\\\\J_{4==4} & \\frac{315 \\left(- 8 \\sigma_{2}^{2} + 35 J_{4==4} S^{2}\\right)}{64 \\sigma_{2}^{4}} & \\frac{315 \\left(- 8 \\sigma_{2}^{2} + 35 J_{4==4} S^{2}\\right)}{64 \\sigma_{2}^{4}}\\end{matrix}\\right]$"
      ],
      "text/plain": [
       "Matrix([\n",
       "[       J_2,                                     J_2*T/sigma0**2,                                                                                                                                                       (sigma1**2*J_4*S + sigma2**2*J_2*T)/(sigma0**2*sigma2**2 - sigma1**4)],\n",
       "[       J_4,                                     J_4*S/sigma2**2,                                                                                                                                                       (sigma0**2*J_4*S + sigma1**2*J_2*T)/(sigma0**2*sigma2**2 - sigma1**4)],\n",
       "[      J_22,                  (-sigma0**2 + J_22*T**2)/sigma0**4,                                (sigma1**4*J_44*S**2 + sigma1**2*sigma2**2*J_24*T*S + sigma1**2*sigma2**2*J_42*S*T + sigma2**4*J_22*T**2 - sigma2**2*(sigma0**2*sigma2**2 - sigma1**4))/(sigma0**2*sigma2**2 - sigma1**4)**2],\n",
       "[     J_2=2,      15*(-2*sigma0**2 + 3*J_2=2*T**2)/(4*sigma0**4),           15*(3*sigma1**4*J_4=4*S**2 + 3*sigma1**2*sigma2**2*J_2=4*T*S + 3*sigma1**2*sigma2**2*J_4=2*S*T + 3*sigma2**4*J_2=2*T**2 - 2*sigma2**2*(sigma0**2*sigma2**2 - sigma1**4))/(4*(sigma0**2*sigma2**2 - sigma1**4)**2)],\n",
       "[      J_24,                      J_24*T*S/(sigma0**2*sigma2**2),                      (sigma0**2*sigma1**2*J_44*S**2 + sigma0**2*sigma2**2*J_24*T*S + sigma1**4*J_42*S*T + sigma1**2*sigma2**2*J_22*T**2 - sigma1**2*(sigma0**2*sigma2**2 - sigma1**4))/(sigma0**2*sigma2**2 - sigma1**4)**2],\n",
       "[     J_2=4,                45*J_2=4*T*S/(4*sigma0**2*sigma2**2), 15*(3*sigma0**2*sigma1**2*J_4=4*S**2 + 3*sigma0**2*sigma2**2*J_2=4*T*S + 3*sigma1**4*J_4=2*S*T + 3*sigma1**2*sigma2**2*J_2=2*T**2 - 2*sigma1**2*(sigma0**2*sigma2**2 - sigma1**4))/(4*(sigma0**2*sigma2**2 - sigma1**4)**2)],\n",
       "[     J_3-3,               3*(-sigma1**2 + J_3-3*R**2)/sigma1**4,                                                                                                                                                                                       3*(-sigma1**2 + J_3-3*R**2)/sigma1**4],\n",
       "[J_3\\equiv3, 35*(-2*sigma1**2 + 5*J_3\\equiv3*R**2)/(4*sigma1**4),                                                                                                                                                                         35*(-2*sigma1**2 + 5*J_3\\equiv3*R**2)/(4*sigma1**4)],\n",
       "[      J_44,                  (-sigma2**2 + J_44*S**2)/sigma2**4,                                (sigma0**4*J_44*S**2 + sigma0**2*sigma1**2*J_24*T*S + sigma0**2*sigma1**2*J_42*S*T - sigma0**2*(sigma0**2*sigma2**2 - sigma1**4) + sigma1**4*J_22*T**2)/(sigma0**2*sigma2**2 - sigma1**4)**2],\n",
       "[     J_4=4,      15*(-2*sigma2**2 + 3*J_4=4*S**2)/(4*sigma2**4),           15*(3*sigma0**4*J_4=4*S**2 + 3*sigma0**2*sigma1**2*J_2=4*T*S + 3*sigma0**2*sigma1**2*J_4=2*S*T - 2*sigma0**2*(sigma0**2*sigma2**2 - sigma1**4) + 3*sigma1**4*J_2=2*T**2)/(4*(sigma0**2*sigma2**2 - sigma1**4)**2)],\n",
       "[    J_4==4,  315*(-8*sigma2**2 + 35*J_4==4*S**2)/(64*sigma2**4),                                                                                                                                                                          315*(-8*sigma2**2 + 35*J_4==4*S**2)/(64*sigma2**4)]])"
      ]
     },
     "execution_count": 5,
     "metadata": {},
     "output_type": "execute_result"
    }
   ],
   "source": [
    "mat = []\n",
    "for term in allterm:\n",
    "    if \"3\" in term:\n",
    "        nospatial = allterm[term]\n",
    "    else:\n",
    "        nospatial = sympy.together(allterm[term].subs(its.sigma[1], 0)) # A hack to see the term if the covariance between 2nd and 4th derivatives were 0\n",
    "    \n",
    "    mat.append([its(term).symbol(), nospatial, allterm[term]])\n",
    "mat = sympy.Matrix(mat)\n",
    "mat"
   ]
  },
  {
   "cell_type": "markdown",
   "id": "68baca32",
   "metadata": {},
   "source": [
    "Here the first column indicates the isotropic tensor associated with the bias term of interest, the second column the lower spatial order estimator and the last column the spatial order (up to) 4 estimator. <br>\n",
    "sympy inevitably miswrites some terms here, e.g. $J_{22} T^2$ should actually be $T J_{22} T$, simply corresponding to $\\delta^2$. Since we anyways contract all tensors fully with the corresponding tensors, we might as well skip writing the tensor:"
   ]
  },
  {
   "cell_type": "code",
   "execution_count": 6,
   "id": "83a824f4",
   "metadata": {},
   "outputs": [],
   "source": [
    "nicesubs = [(its.x[0], 1), (its.x[1], 1), (its.x[2], 1)]\n",
    "nicesubs += [(its.sigstar4, sympy.Symbol(\"sigma_*\", real=True, positive=True)**4)]\n",
    "nicesubs += [(its(\"J42\").symbol(), its(\"J24\").symbol())] \n",
    "nicesubs += [(its(\"J4=2\").symbol(), its(\"J2=4\").symbol())]"
   ]
  },
  {
   "cell_type": "code",
   "execution_count": 7,
   "id": "3b1f14bc",
   "metadata": {},
   "outputs": [
    {
     "data": {
      "text/latex": [
       "$\\displaystyle \\left[\\begin{matrix}J_{2} & \\frac{J_{2}}{\\sigma_{0}^{2}} & \\frac{J_{2} \\sigma_{2}^{2} + J_{4} \\sigma_{1}^{2}}{\\sigma_{*}^{4}}\\\\J_{4} & \\frac{J_{4}}{\\sigma_{2}^{2}} & \\frac{J_{2} \\sigma_{1}^{2} + J_{4} \\sigma_{0}^{2}}{\\sigma_{*}^{4}}\\\\J_{22} & \\frac{- \\sigma_{0}^{2} + J_{22}}{\\sigma_{0}^{4}} & \\frac{J_{22} \\sigma_{2}^{4} + 2 J_{24} \\sigma_{1}^{2} \\sigma_{2}^{2} + J_{44} \\sigma_{1}^{4} - \\sigma_{2}^{2} \\sigma_{*}^{4}}{\\sigma_{*}^{8}}\\\\J_{2=2} & \\frac{15 \\left(- 2 \\sigma_{0}^{2} + 3 J_{2=2}\\right)}{4 \\sigma_{0}^{4}} & \\frac{15 \\cdot \\left(3 J_{2=2} \\sigma_{2}^{4} + 6 J_{2=4} \\sigma_{1}^{2} \\sigma_{2}^{2} + 3 J_{4=4} \\sigma_{1}^{4} - 2 \\sigma_{2}^{2} \\sigma_{*}^{4}\\right)}{4 \\sigma_{*}^{8}}\\\\J_{24} & \\frac{J_{24}}{\\sigma_{0}^{2} \\sigma_{2}^{2}} & \\frac{J_{22} \\sigma_{1}^{2} \\sigma_{2}^{2} + J_{24} \\left(\\sigma_{0}^{2} \\sigma_{2}^{2} + \\sigma_{1}^{4}\\right) + J_{44} \\sigma_{0}^{2} \\sigma_{1}^{2} - \\sigma_{1}^{2} \\sigma_{*}^{4}}{\\sigma_{*}^{8}}\\\\J_{2=4} & \\frac{45 J_{2=4}}{4 \\sigma_{0}^{2} \\sigma_{2}^{2}} & \\frac{15 \\cdot \\left(3 J_{2=2} \\sigma_{1}^{2} \\sigma_{2}^{2} + J_{2=4} \\cdot \\left(3 \\sigma_{0}^{2} \\sigma_{2}^{2} + 3 \\sigma_{1}^{4}\\right) + 3 J_{4=4} \\sigma_{0}^{2} \\sigma_{1}^{2} - 2 \\sigma_{1}^{2} \\sigma_{*}^{4}\\right)}{4 \\sigma_{*}^{8}}\\\\J_{3-3} & \\frac{3 \\left(- \\sigma_{1}^{2} + J_{3-3}\\right)}{\\sigma_{1}^{4}} & \\frac{3 \\left(J_{3-3} - \\sigma_{1}^{2}\\right)}{\\sigma_{1}^{4}}\\\\J_{3\\equiv3} & \\frac{35 \\left(- 2 \\sigma_{1}^{2} + 5 J_{3\\equiv3}\\right)}{4 \\sigma_{1}^{4}} & \\frac{35 \\cdot \\left(5 J_{3\\equiv3} - 2 \\sigma_{1}^{2}\\right)}{4 \\sigma_{1}^{4}}\\\\J_{44} & \\frac{- \\sigma_{2}^{2} + J_{44}}{\\sigma_{2}^{4}} & \\frac{J_{22} \\sigma_{1}^{4} + 2 J_{24} \\sigma_{0}^{2} \\sigma_{1}^{2} + J_{44} \\sigma_{0}^{4} - \\sigma_{0}^{2} \\sigma_{*}^{4}}{\\sigma_{*}^{8}}\\\\J_{4=4} & \\frac{15 \\left(- 2 \\sigma_{2}^{2} + 3 J_{4=4}\\right)}{4 \\sigma_{2}^{4}} & \\frac{15 \\cdot \\left(3 J_{2=2} \\sigma_{1}^{4} + 6 J_{2=4} \\sigma_{0}^{2} \\sigma_{1}^{2} + 3 J_{4=4} \\sigma_{0}^{4} - 2 \\sigma_{0}^{2} \\sigma_{*}^{4}\\right)}{4 \\sigma_{*}^{8}}\\\\J_{4==4} & \\frac{315 \\left(- 8 \\sigma_{2}^{2} + 35 J_{4==4}\\right)}{64 \\sigma_{2}^{4}} & \\frac{315 \\cdot \\left(35 J_{4==4} - 8 \\sigma_{2}^{2}\\right)}{64 \\sigma_{2}^{4}}\\end{matrix}\\right]$"
      ],
      "text/plain": [
       "Matrix([\n",
       "[       J_2,                                  J_2/sigma0**2,                                                                                                           (J_2*sigma2**2 + J_4*sigma1**2)/sigma_***4],\n",
       "[       J_4,                                  J_4/sigma2**2,                                                                                                           (J_2*sigma1**2 + J_4*sigma0**2)/sigma_***4],\n",
       "[      J_22,                  (-sigma0**2 + J_22)/sigma0**4,                                                     (J_22*sigma2**4 + 2*J_24*sigma1**2*sigma2**2 + J_44*sigma1**4 - sigma2**2*sigma_***4)/sigma_***8],\n",
       "[     J_2=2,      15*(-2*sigma0**2 + 3*J_2=2)/(4*sigma0**4),                                     15*(3*J_2=2*sigma2**4 + 6*J_2=4*sigma1**2*sigma2**2 + 3*J_4=4*sigma1**4 - 2*sigma2**2*sigma_***4)/(4*sigma_***8)],\n",
       "[      J_24,                     J_24/(sigma0**2*sigma2**2),                     (J_22*sigma1**2*sigma2**2 + J_24*(sigma0**2*sigma2**2 + sigma1**4) + J_44*sigma0**2*sigma1**2 - sigma1**2*sigma_***4)/sigma_***8],\n",
       "[     J_2=4,               45*J_2=4/(4*sigma0**2*sigma2**2), 15*(3*J_2=2*sigma1**2*sigma2**2 + J_2=4*(3*sigma0**2*sigma2**2 + 3*sigma1**4) + 3*J_4=4*sigma0**2*sigma1**2 - 2*sigma1**2*sigma_***4)/(4*sigma_***8)],\n",
       "[     J_3-3,               3*(-sigma1**2 + J_3-3)/sigma1**4,                                                                                                                      3*(J_3-3 - sigma1**2)/sigma1**4],\n",
       "[J_3\\equiv3, 35*(-2*sigma1**2 + 5*J_3\\equiv3)/(4*sigma1**4),                                                                                                        35*(5*J_3\\equiv3 - 2*sigma1**2)/(4*sigma1**4)],\n",
       "[      J_44,                  (-sigma2**2 + J_44)/sigma2**4,                                                     (J_22*sigma1**4 + 2*J_24*sigma0**2*sigma1**2 + J_44*sigma0**4 - sigma0**2*sigma_***4)/sigma_***8],\n",
       "[     J_4=4,      15*(-2*sigma2**2 + 3*J_4=4)/(4*sigma2**4),                                     15*(3*J_2=2*sigma1**4 + 6*J_2=4*sigma0**2*sigma1**2 + 3*J_4=4*sigma0**4 - 2*sigma0**2*sigma_***4)/(4*sigma_***8)],\n",
       "[    J_4==4,  315*(-8*sigma2**2 + 35*J_4==4)/(64*sigma2**4),                                                                                                         315*(35*J_4==4 - 8*sigma2**2)/(64*sigma2**4)]])"
      ]
     },
     "execution_count": 7,
     "metadata": {},
     "output_type": "execute_result"
    }
   ],
   "source": [
    "mat = []\n",
    "for term in allterm:\n",
    "    if \"3\" in term:\n",
    "        nospatial = allterm[term]\n",
    "    else:\n",
    "        nospatial = sympy.together(allterm[term].subs(its.sigma[1], 0))\n",
    "    \n",
    "    mat.append([its(term).symbol(), nospatial.subs(nicesubs), its.symbol_collect_Js(sympy.together(allterm[term].subs(nicesubs)))])\n",
    "mat = sympy.Matrix(mat)\n",
    "mat"
   ]
  },
  {
   "cell_type": "markdown",
   "id": "a0a128c9",
   "metadata": {},
   "source": [
    "Where each $J$ term is supposed to be replaced by a corresponding $J-$ contraction of the appropriate potential-derivative"
   ]
  },
  {
   "cell_type": "markdown",
   "id": "1d55a9cf",
   "metadata": {},
   "source": [
    "# Python Code\n",
    "Finally, we create python code for evaluating the computed estimators."
   ]
  },
  {
   "cell_type": "code",
   "execution_count": 8,
   "id": "703c41ab",
   "metadata": {},
   "outputs": [],
   "source": [
    "with open(\"bias_estimators.py\", \"w\") as f:\n",
    "    f.write(\"import numpy as np\\n\\n\")\n",
    "    f.write('bias_estimators = {2:{}, 4:{}}\\n\\n')\n",
    "    f.write(\"#---------- Spatial Order 2 -----------\\n\\n\")\n",
    "    \n",
    "    for term in \"J2\", \"J22\", \"J2=2\":\n",
    "        pycode, fname = its.pycode_bias_estimator(term, potderiv=(2,), label=\"so2\", getinfo=True)\n",
    "        f.write(pycode + \"\\n\")\n",
    "        f.write('bias_estimators[2][\"%s\"] = %s\\n\\n' % (term, fname))\n",
    "    \n",
    "    f.write(\"#---------- Spatial Order 4 -----------\\n\")\n",
    "    for term in \"J2\", \"J22\", \"J2=2\", \"J4\", \"J24\", \"J2=4\", \"J3-3\", \"J3---3\", \"J44\", \"J4=4\", \"J4==4\":\n",
    "        pycode, fname = its.pycode_bias_estimator(term, potderiv=(2,3,4), label=\"so4\", getinfo=True)\n",
    "        f.write(pycode + \"\\n\")\n",
    "        f.write('bias_estimators[4][\"%s\"] = %s\\n\\n' % (term,fname))"
   ]
  },
  {
   "cell_type": "markdown",
   "id": "6c6fb3d8",
   "metadata": {},
   "source": [
    "Have a look at bias_estimators.py to see the generated code.\n",
    "Note that we count here spatial orders in terms of derivatives from the potential (rather from the density). For the conventional labelling subtract two from the order that is stated here"
   ]
  },
  {
   "cell_type": "markdown",
   "id": "7b5735aa",
   "metadata": {},
   "source": [
    "# A Toy model as example\n",
    "Let's say we had a density field with variance $\\sigma_0=1$ and a set of tracers defined through $0 < \\delta < 1$. What is their bias $b_1$?"
   ]
  },
  {
   "cell_type": "code",
   "execution_count": 9,
   "id": "5a2f2491",
   "metadata": {},
   "outputs": [],
   "source": [
    "import bias_estimators as be"
   ]
  },
  {
   "cell_type": "code",
   "execution_count": 10,
   "id": "3740b4b7",
   "metadata": {},
   "outputs": [
    {
     "name": "stdout",
     "output_type": "stream",
     "text": [
      "0.4574828065161686 -0.7110443922515665\n"
     ]
    }
   ],
   "source": [
    "sigma = 1.\n",
    "delta = np.random.normal(0., sigma, size=(10000))\n",
    "tracer_mask = (delta > 0.) & (delta < 1.)\n",
    "\n",
    "# All estimator function assume two inputs\n",
    "# (1): the variables as a dictionary, where each key is the name\n",
    "#      of an isotropic tensor and the value is the tensor contracted\n",
    "#      with the corresponding derivatives of the potential\n",
    "# (2): A list of the spectral moments of the linear density field\n",
    "#      sigmas = np.sqrt([np.mean(delta**2), -np.mean(delta*L), np.mean(L**2), ...])\n",
    "#      Which terms are needed depends on the term and the order of the estimator\n",
    "terms = {\"J2\": delta[tracer_mask]}\n",
    "sigmas = [sigma]\n",
    "b1_per_object = be.bias_estimators[2][\"J2\"](terms, sigmas)\n",
    "b1 = np.mean(b1_per_object)\n",
    "b2_per_object = be.bias_estimators[2][\"J22\"](terms, sigmas)\n",
    "b2 = np.mean(b2_per_object)\n",
    "print(b1, b2)"
   ]
  }
 ],
 "metadata": {
  "kernelspec": {
   "display_name": "Python [conda env:jupyter] *",
   "language": "python",
   "name": "conda-env-jupyter-py"
  },
  "language_info": {
   "codemirror_mode": {
    "name": "ipython",
    "version": 3
   },
   "file_extension": ".py",
   "mimetype": "text/x-python",
   "name": "python",
   "nbconvert_exporter": "python",
   "pygments_lexer": "ipython3",
   "version": "3.8.5"
  }
 },
 "nbformat": 4,
 "nbformat_minor": 5
}
