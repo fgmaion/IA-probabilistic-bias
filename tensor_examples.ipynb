{
 "cells": [
  {
   "cell_type": "code",
   "execution_count": 2,
   "id": "2faeec15",
   "metadata": {},
   "outputs": [],
   "source": [
    "import sympy\n",
    "import numpy as np\n",
    "import isotropic_tensors as it\n",
    "\n",
    "%load_ext autoreload"
   ]
  },
  {
   "cell_type": "markdown",
   "id": "a1a37785",
   "metadata": {},
   "source": [
    "# For latex"
   ]
  },
  {
   "cell_type": "code",
   "execution_count": 3,
   "id": "ab581e17",
   "metadata": {},
   "outputs": [],
   "source": [
    "%autoreload\n",
    "its = it.IsotropicTensorSystem(usecache=False)"
   ]
  },
  {
   "cell_type": "code",
   "execution_count": 4,
   "id": "e672d736",
   "metadata": {},
   "outputs": [
    {
     "data": {
      "text/latex": [
       "$\\displaystyle S_{222}(\\delta_{ij}\\delta_{kl}\\delta_{mn})$"
      ],
      "text/plain": [
       "S_{222}(\\delta_{ij}\\delta_{kl}\\delta_{mn})"
      ]
     },
     "execution_count": 4,
     "metadata": {},
     "output_type": "execute_result"
    }
   ],
   "source": [
    "its.tens[\"I222\"].index_representation()"
   ]
  },
  {
   "cell_type": "code",
   "execution_count": 5,
   "id": "6fef0f0c",
   "metadata": {},
   "outputs": [
    {
     "name": "stdout",
     "output_type": "stream",
     "text": [
      "$       J_{2}$ & $                                                                                  S_{2}(\\delta_{ij})$ & $                   3$\\\\\n",
      "$      J_{22}$ & $                                                                      S_{22}(\\delta_{ij}\\delta_{kl})$ & $                   9$\\\\\n",
      "$     J_{2=2}$ & $                         - \\frac{S_{22}(\\delta_{ij}\\delta_{kl})}{3} + S_{22}(\\delta_{ik}\\delta_{jl})$ & $                   5$\\\\\n",
      "$       J_{4}$ & $                                                                       S_{4}(\\delta_{ij}\\delta_{kl})$ & $                   5$\\\\\n",
      "$     J_{3-3}$ & $                                                           S_{33}(\\delta_{ij}\\delta_{kl}\\delta_{mn})$ & $        \\frac{25}{3}$\\\\\n",
      "$J_{3\\equiv3}$ & $ - \\frac{3 S_{33}(\\delta_{ij}\\delta_{kl}\\delta_{mn})}{5} + S_{33}(\\delta_{ik}\\delta_{mj}\\delta_{ln})$ & $                   7$\\\\\n",
      "$      J_{24}$ & $                                                           S_{24}(\\delta_{ij}\\delta_{kl}\\delta_{mn})$ & $                  15$\\\\\n",
      "$     J_{2=4}$ & $   - \\frac{S_{24}(\\delta_{ij}\\delta_{kl}\\delta_{mn})}{3} + S_{24}(\\delta_{ik}\\delta_{jl}\\delta_{mn})$ & $        \\frac{35}{6}$\\\\\n"
     ]
    }
   ],
   "source": [
    "JtoI = its.symbol_JtoI(get_name=True, index_rep=True)\n",
    "sd = {JtoI[i][0]:JtoI[i][1:] for i in range(0, len(JtoI))}\n",
    "\n",
    "for name in \"J2\", \"J22\", \"J2=2\", \"J4\", \"J3-3\", \"J3---3\", \"J24\", \"J2=4\":\n",
    "    print(\"$%12s$ & $%100s$ & $%20s$\\\\\\\\\" % (sympy.printing.latex(sd[name][0]), sympy.printing.latex(sd[name][1]), sympy.printing.latex(sympy.Rational(its.otens[name].norm2()).limit_denominator(10**8))))"
   ]
  },
  {
   "cell_type": "code",
   "execution_count": 6,
   "id": "283e6321",
   "metadata": {},
   "outputs": [
    {
     "data": {
      "text/plain": [
       "[('J0', 1, S_{}()),\n",
       " ('J2', J_2, S_{2}(\\delta_{ij})),\n",
       " ('J4', J_4, S_{4}(\\delta_{ij}\\delta_{kl})),\n",
       " ('J6', J_6, S_{6}(\\delta_{ij}\\delta_{kl}\\delta_{mn})),\n",
       " ('J8', J_8, S_{8}(\\delta_{ij}\\delta_{kl}\\delta_{mn}\\delta_{op})),\n",
       " ('J22', J_22, S_{22}(\\delta_{ij}\\delta_{kl})),\n",
       " ('J2=2',\n",
       "  J_2=2,\n",
       "  -S_{22}(\\delta_{ij}\\delta_{kl})/3 + S_{22}(\\delta_{ik}\\delta_{jl})),\n",
       " ('J3-3', J_3-3, S_{33}(\\delta_{ij}\\delta_{kl}\\delta_{mn})),\n",
       " ('J3---3',\n",
       "  J_3\\equiv3,\n",
       "  -3*S_{33}(\\delta_{ij}\\delta_{kl}\\delta_{mn})/5 + S_{33}(\\delta_{ik}\\delta_{mj}\\delta_{ln})),\n",
       " ('J42', J_42, S_{42}(\\delta_{ij}\\delta_{kl}\\delta_{mn})),\n",
       " ('J4=2',\n",
       "  J_4=2,\n",
       "  -S_{42}(\\delta_{ij}\\delta_{kl}\\delta_{mn})/3 + S_{42}(\\delta_{ij}\\delta_{km}\\delta_{ln})),\n",
       " ('J24', J_24, S_{24}(\\delta_{ij}\\delta_{kl}\\delta_{mn})),\n",
       " ('J2=4',\n",
       "  J_2=4,\n",
       "  -S_{24}(\\delta_{ij}\\delta_{kl}\\delta_{mn})/3 + S_{24}(\\delta_{ik}\\delta_{jl}\\delta_{mn})),\n",
       " ('J44', J_44, S_{44}(\\delta_{ij}\\delta_{kl}\\delta_{mn}\\delta_{op})),\n",
       " ('J4=4',\n",
       "  J_4=4,\n",
       "  -S_{44}(\\delta_{ij}\\delta_{kl}\\delta_{mn}\\delta_{op})/3 + S_{44}(\\delta_{ij}\\delta_{km}\\delta_{ln}\\delta_{op})),\n",
       " ('J4==4',\n",
       "  J_4==4,\n",
       "  3*S_{44}(\\delta_{ij}\\delta_{kl}\\delta_{mn}\\delta_{op})/35 - 6*S_{44}(\\delta_{ij}\\delta_{km}\\delta_{ln}\\delta_{op})/7 + S_{44}(\\delta_{ik}\\delta_{mo}\\delta_{jl}\\delta_{np})),\n",
       " ('J222', J_222, S_{222}(\\delta_{ij}\\delta_{kl}\\delta_{mn})),\n",
       " ('J2=22',\n",
       "  J_2=22,\n",
       "  -S_{222}(\\delta_{ij}\\delta_{kl}\\delta_{mn})/3 + S_{222}(\\delta_{ik}\\delta_{jl}\\delta_{mn})),\n",
       " ('J2-2-2-',\n",
       "  J_2-2-2-,\n",
       "  2*S_{222}(\\delta_{ij}\\delta_{kl}\\delta_{mn})/9 - S_{222}(\\delta_{ik}\\delta_{jl}\\delta_{mn}) + S_{222}(\\delta_{ik}\\delta_{lm}\\delta_{nj}))]"
      ]
     },
     "execution_count": 6,
     "metadata": {},
     "output_type": "execute_result"
    }
   ],
   "source": [
    "JtoI"
   ]
  },
  {
   "cell_type": "code",
   "execution_count": 5,
   "id": "6715cbc6",
   "metadata": {},
   "outputs": [
    {
     "data": {
      "text/plain": [
       "[('J0', 1, 1),\n",
       " ('J2', J_2, I_2),\n",
       " ('J4', J_4, I_4),\n",
       " ('J6', J_6, I_6),\n",
       " ('J8', J_8, I_8),\n",
       " ('J22', J_22, I_22),\n",
       " ('J2=2', J_2=2, -I_22/3 + I_2=2),\n",
       " ('J3-3', J_3-3, I_3-3),\n",
       " ('J3---3', J_3\\equiv3, -3*I_3-3/5 + I_3\\equiv3),\n",
       " ('J42', J_42, I_42),\n",
       " ('J4=2', J_4=2, -I_42/3 + I_4=2),\n",
       " ('J24', J_24, I_24),\n",
       " ('J2=4', J_2=4, -I_24/3 + I_2=4),\n",
       " ('J44', J_44, I_44),\n",
       " ('J4=4', J_4=4, -I_44/3 + I_4=4),\n",
       " ('J4==4', J_4==4, 3*I_44/35 - 6*I_4=4/7 + I_4==4),\n",
       " ('J222', J_222, I_222),\n",
       " ('J2=22', J_2=22, -I_222/3 + I_2=22),\n",
       " ('J2-2-2-', J_2-2-2-, I_2-2-2- + 2*I_222/9 - I_2=22)]"
      ]
     },
     "execution_count": 5,
     "metadata": {},
     "output_type": "execute_result"
    }
   ],
   "source": [
    "JtoI"
   ]
  },
  {
   "cell_type": "markdown",
   "id": "2590536b",
   "metadata": {},
   "source": [
    "# Covariance Matrices"
   ]
  },
  {
   "cell_type": "code",
   "execution_count": 23,
   "id": "6dc21f8b",
   "metadata": {},
   "outputs": [
    {
     "data": {
      "text/latex": [
       "$\\displaystyle \\left[\\begin{matrix}\\frac{\\sigma_{0}^{2} J_{22}}{9} + \\frac{2 \\sigma_{0}^{2} J_{2=2}}{15}\\end{matrix}\\right]$"
      ],
      "text/plain": [
       "Matrix([[sigma0**2*J_22/9 + 2*sigma0**2*J_2=2/15]])"
      ]
     },
     "execution_count": 23,
     "metadata": {},
     "output_type": "execute_result"
    }
   ],
   "source": [
    "its.covariance_matrix((2,), decomposed=True)[0]"
   ]
  },
  {
   "cell_type": "code",
   "execution_count": 24,
   "id": "7f4953eb",
   "metadata": {},
   "outputs": [
    {
     "data": {
      "text/latex": [
       "$\\displaystyle \\left[\\begin{matrix}\\frac{\\sigma_{0}^{2} J_{22}}{9} + \\frac{2 \\sigma_{0}^{2} J_{2=2}}{15} & \\frac{\\sigma_{1}^{2} J_{24}}{15} + \\frac{4 \\sigma_{1}^{2} J_{2=4}}{35}\\\\\\frac{\\sigma_{1}^{2} J_{42}}{15} + \\frac{4 \\sigma_{1}^{2} J_{4=2}}{35} & \\frac{\\sigma_{2}^{2} J_{44}}{25} + \\frac{24 \\sigma_{2}^{2} J_{4=4}}{245} + \\frac{8 \\sigma_{2}^{2} J_{4==4}}{315}\\end{matrix}\\right]$"
      ],
      "text/plain": [
       "Matrix([\n",
       "[ sigma0**2*J_22/9 + 2*sigma0**2*J_2=2/15,                            sigma1**2*J_24/15 + 4*sigma1**2*J_2=4/35],\n",
       "[sigma1**2*J_42/15 + 4*sigma1**2*J_4=2/35, sigma2**2*J_44/25 + 24*sigma2**2*J_4=4/245 + 8*sigma2**2*J_4==4/315]])"
      ]
     },
     "execution_count": 24,
     "metadata": {},
     "output_type": "execute_result"
    }
   ],
   "source": [
    "its.covariance_matrix((2,4), decomposed=True)[0]"
   ]
  },
  {
   "cell_type": "code",
   "execution_count": 22,
   "id": "5362d1e0",
   "metadata": {},
   "outputs": [
    {
     "data": {
      "text/latex": [
       "$\\displaystyle \\left[\\begin{matrix}\\frac{\\sigma_{0}^{2} J_{22}}{9} + \\frac{2 \\sigma_{0}^{2} J_{2=2}}{15} & \\frac{\\sigma_{1}^{2} J_{24}}{15} + \\frac{4 \\sigma_{1}^{2} J_{2=4}}{35}\\\\\\frac{\\sigma_{1}^{2} J_{42}}{15} + \\frac{4 \\sigma_{1}^{2} J_{4=2}}{35} & \\frac{\\sigma_{2}^{2} J_{44}}{25} + \\frac{24 \\sigma_{2}^{2} J_{4=4}}{245} + \\frac{8 \\sigma_{2}^{2} J_{4==4}}{315}\\end{matrix}\\right]$"
      ],
      "text/plain": [
       "Matrix([\n",
       "[ sigma0**2*J_22/9 + 2*sigma0**2*J_2=2/15,                            sigma1**2*J_24/15 + 4*sigma1**2*J_2=4/35],\n",
       "[sigma1**2*J_42/15 + 4*sigma1**2*J_4=2/35, sigma2**2*J_44/25 + 24*sigma2**2*J_4=4/245 + 8*sigma2**2*J_4==4/315]])"
      ]
     },
     "execution_count": 22,
     "metadata": {},
     "output_type": "execute_result"
    }
   ],
   "source": [
    "its.covariance_matrix((2,4), decomposed=True)[0]"
   ]
  },
  {
   "cell_type": "markdown",
   "id": "9bab8bd2",
   "metadata": {},
   "source": [
    "# Inverse Covariance Matrices"
   ]
  },
  {
   "cell_type": "code",
   "execution_count": 6,
   "id": "54209b30",
   "metadata": {},
   "outputs": [
    {
     "data": {
      "text/latex": [
       "$\\displaystyle \\left[\\begin{matrix}\\frac{J_{22}}{\\sigma_{0}^{2}} + \\frac{15 J_{2=2}}{2 \\sigma_{0}^{2}}\\end{matrix}\\right]$"
      ],
      "text/plain": [
       "Matrix([[J_22/sigma0**2 + 15*J_2=2/(2*sigma0**2)]])"
      ]
     },
     "execution_count": 6,
     "metadata": {},
     "output_type": "execute_result"
    }
   ],
   "source": [
    "CiJ, sigma = its.pseudo_inverse_covariance_matrix((2,))\n",
    "CiI = CiJ.subs(its.symbol_JtoI()).expand()\n",
    "CiI\n",
    "CiJ"
   ]
  },
  {
   "cell_type": "code",
   "execution_count": 7,
   "id": "900930f4",
   "metadata": {},
   "outputs": [
    {
     "data": {
      "text/latex": [
       "$\\displaystyle \\left[\\begin{matrix}\\frac{3 J_{3-3}}{\\sigma_{1}^{2}} + \\frac{35 J_{3\\equiv3}}{2 \\sigma_{1}^{2}}\\end{matrix}\\right]$"
      ],
      "text/plain": [
       "Matrix([[3*J_3-3/sigma1**2 + 35*J_3\\equiv3/(2*sigma1**2)]])"
      ]
     },
     "execution_count": 7,
     "metadata": {},
     "output_type": "execute_result"
    }
   ],
   "source": [
    "CiJ, sigma = its.pseudo_inverse_covariance_matrix((3,))\n",
    "CiI = CiJ.subs(its.symbol_JtoI()).expand()\n",
    "CiI\n",
    "CiJ"
   ]
  },
  {
   "cell_type": "code",
   "execution_count": 8,
   "id": "0c2e1a69",
   "metadata": {},
   "outputs": [
    {
     "data": {
      "text/latex": [
       "$\\displaystyle \\left[\\begin{matrix}\\frac{J_{44}}{\\sigma_{2}^{2}} + \\frac{15 J_{4=4}}{2 \\sigma_{2}^{2}} + \\frac{315 J_{4==4}}{8 \\sigma_{2}^{2}}\\end{matrix}\\right]$"
      ],
      "text/plain": [
       "Matrix([[J_44/sigma2**2 + 15*J_4=4/(2*sigma2**2) + 315*J_4==4/(8*sigma2**2)]])"
      ]
     },
     "execution_count": 8,
     "metadata": {},
     "output_type": "execute_result"
    }
   ],
   "source": [
    "CiJ, sigma = its.pseudo_inverse_covariance_matrix((4,))\n",
    "CiI = CiJ.subs(its.symbol_JtoI()).expand()\n",
    "CiI\n",
    "CiJ"
   ]
  },
  {
   "cell_type": "code",
   "execution_count": 9,
   "id": "ebd3b415",
   "metadata": {},
   "outputs": [
    {
     "data": {
      "text/latex": [
       "$\\displaystyle \\left[\\begin{matrix}\\frac{J_{44}}{\\sigma_{2}^{2}} + \\frac{15 J_{4=4}}{2 \\sigma_{2}^{2}} + \\frac{315 J_{4==4}}{8 \\sigma_{2}^{2}}\\end{matrix}\\right]$"
      ],
      "text/plain": [
       "Matrix([[J_44/sigma2**2 + 15*J_4=4/(2*sigma2**2) + 315*J_4==4/(8*sigma2**2)]])"
      ]
     },
     "execution_count": 9,
     "metadata": {},
     "output_type": "execute_result"
    }
   ],
   "source": [
    "CiJ"
   ]
  },
  {
   "cell_type": "code",
   "execution_count": 39,
   "id": "b5b6d6ad",
   "metadata": {},
   "outputs": [
    {
     "data": {
      "text/latex": [
       "$\\displaystyle \\left[\\begin{matrix}\\frac{\\sigma_{0}^{2} J_{22}}{9} + \\frac{2 \\sigma_{0}^{2} J_{2=2}}{15} & \\frac{\\sigma_{1}^{2} J_{24}}{15} + \\frac{4 \\sigma_{1}^{2} J_{2=4}}{35}\\\\\\frac{\\sigma_{1}^{2} J_{42}}{15} + \\frac{4 \\sigma_{1}^{2} J_{4=2}}{35} & \\frac{\\sigma_{2}^{2} J_{44}}{25} + \\frac{24 \\sigma_{2}^{2} J_{4=4}}{245} + \\frac{8 \\sigma_{2}^{2} J_{4==4}}{315}\\end{matrix}\\right]$"
      ],
      "text/plain": [
       "Matrix([\n",
       "[ sigma0**2*J_22/9 + 2*sigma0**2*J_2=2/15,                            sigma1**2*J_24/15 + 4*sigma1**2*J_2=4/35],\n",
       "[sigma1**2*J_42/15 + 4*sigma1**2*J_4=2/35, sigma2**2*J_44/25 + 24*sigma2**2*J_4=4/245 + 8*sigma2**2*J_4==4/315]])"
      ]
     },
     "execution_count": 39,
     "metadata": {},
     "output_type": "execute_result"
    }
   ],
   "source": [
    "its.covariance_matrix((2,4))[0]"
   ]
  },
  {
   "cell_type": "code",
   "execution_count": 48,
   "id": "d9a047cc",
   "metadata": {},
   "outputs": [
    {
     "data": {
      "text/latex": [
       "$\\displaystyle \\left[\\begin{matrix}\\frac{\\sigma_{0}^{2} J_{22}}{9} + \\frac{2 \\sigma_{0}^{2} J_{2=2}}{15} & - \\frac{\\sigma_{1}^{2} J_{24}}{15} - \\frac{4 \\sigma_{1}^{2} J_{2=4}}{35}\\\\- \\frac{\\sigma_{1}^{2} J_{42}}{15} - \\frac{4 \\sigma_{1}^{2} J_{4=2}}{35} & \\frac{\\sigma_{2}^{2} J_{44}}{25} + \\frac{24 \\sigma_{2}^{2} J_{4=4}}{245} + \\frac{8 \\sigma_{2}^{2} J_{4==4}}{315}\\end{matrix}\\right]$"
      ],
      "text/plain": [
       "Matrix([\n",
       "[  sigma0**2*J_22/9 + 2*sigma0**2*J_2=2/15,                           -sigma1**2*J_24/15 - 4*sigma1**2*J_2=4/35],\n",
       "[-sigma1**2*J_42/15 - 4*sigma1**2*J_4=2/35, sigma2**2*J_44/25 + 24*sigma2**2*J_4=4/245 + 8*sigma2**2*J_4==4/315]])"
      ]
     },
     "execution_count": 48,
     "metadata": {},
     "output_type": "execute_result"
    }
   ],
   "source": [
    "its.covariance_matrix((2,4))[0]"
   ]
  },
  {
   "cell_type": "code",
   "execution_count": 40,
   "id": "d6448724",
   "metadata": {},
   "outputs": [
    {
     "name": "stdout",
     "output_type": "stream",
     "text": [
      "\\left[\\begin{matrix}\\frac{\\sigma_{0}^{2} J_{22}}{9} + \\frac{2 \\sigma_{0}^{2} J_{2=2}}{15} & \\frac{\\sigma_{1}^{2} J_{24}}{15} + \\frac{4 \\sigma_{1}^{2} J_{2=4}}{35}\\\\\\frac{\\sigma_{1}^{2} J_{42}}{15} + \\frac{4 \\sigma_{1}^{2} J_{4=2}}{35} & \\frac{\\sigma_{2}^{2} J_{44}}{25} + \\frac{24 \\sigma_{2}^{2} J_{4=4}}{245} + \\frac{8 \\sigma_{2}^{2} J_{4==4}}{315}\\end{matrix}\\right]\n"
     ]
    }
   ],
   "source": [
    "print(sympy.printing.latex(its.covariance_matrix((2,4))[0]))"
   ]
  },
  {
   "cell_type": "code",
   "execution_count": 41,
   "id": "2415b49c",
   "metadata": {},
   "outputs": [
    {
     "name": "stdout",
     "output_type": "stream",
     "text": [
      "\\left[\\begin{matrix}\\frac{15 \\sigma_{2}^{2} J_{2=2}}{2 \\sigma_{0}^{2} \\sigma_{2}^{2} - 2 \\sigma_{1}^{4}} + \\frac{\\sigma_{2}^{2} J_{22}}{\\sigma_{0}^{2} \\sigma_{2}^{2} - \\sigma_{1}^{4}} & - \\frac{15 \\sigma_{1}^{2} J_{2=4}}{2 \\sigma_{0}^{2} \\sigma_{2}^{2} - 2 \\sigma_{1}^{4}} - \\frac{\\sigma_{1}^{2} J_{24}}{\\sigma_{0}^{2} \\sigma_{2}^{2} - \\sigma_{1}^{4}}\\\\- \\frac{15 \\sigma_{1}^{2} J_{4=2}}{2 \\sigma_{0}^{2} \\sigma_{2}^{2} - 2 \\sigma_{1}^{4}} - \\frac{\\sigma_{1}^{2} J_{42}}{\\sigma_{0}^{2} \\sigma_{2}^{2} - \\sigma_{1}^{4}} & \\frac{15 \\sigma_{0}^{2} J_{4=4}}{2 \\sigma_{0}^{2} \\sigma_{2}^{2} - 2 \\sigma_{1}^{4}} + \\frac{\\sigma_{0}^{2} J_{44}}{\\sigma_{0}^{2} \\sigma_{2}^{2} - \\sigma_{1}^{4}} + \\frac{315 J_{4==4}}{8 \\sigma_{2}^{2}}\\end{matrix}\\right]\n"
     ]
    }
   ],
   "source": [
    "print(sympy.printing.latex(its.pseudo_inverse_covariance_matrix((2,4))[0]))"
   ]
  },
  {
   "cell_type": "code",
   "execution_count": 54,
   "id": "531181ef",
   "metadata": {},
   "outputs": [
    {
     "name": "stdout",
     "output_type": "stream",
     "text": [
      "CPU times: user 48 µs, sys: 0 ns, total: 48 µs\n",
      "Wall time: 56.5 µs\n"
     ]
    },
    {
     "data": {
      "text/latex": [
       "$\\displaystyle \\left[\\begin{matrix}\\frac{15 \\sigma_{2}^{2} J_{2=2}}{2 \\sigma_{0}^{2} \\sigma_{2}^{2} - 2 \\sigma_{1}^{4}} + \\frac{\\sigma_{2}^{2} J_{22}}{\\sigma_{0}^{2} \\sigma_{2}^{2} - \\sigma_{1}^{4}} & 0 & \\frac{15 \\sigma_{1}^{2} J_{2=4}}{2 \\sigma_{0}^{2} \\sigma_{2}^{2} - 2 \\sigma_{1}^{4}} + \\frac{\\sigma_{1}^{2} J_{24}}{\\sigma_{0}^{2} \\sigma_{2}^{2} - \\sigma_{1}^{4}}\\\\0 & - \\frac{3 J_{3-3}}{\\sigma_{1}^{2}} - \\frac{35 J_{3\\equiv3}}{2 \\sigma_{1}^{2}} & 0\\\\\\frac{15 \\sigma_{1}^{2} J_{4=2}}{2 \\sigma_{0}^{2} \\sigma_{2}^{2} - 2 \\sigma_{1}^{4}} + \\frac{\\sigma_{1}^{2} J_{42}}{\\sigma_{0}^{2} \\sigma_{2}^{2} - \\sigma_{1}^{4}} & 0 & \\frac{15 \\sigma_{0}^{2} J_{4=4}}{2 \\sigma_{0}^{2} \\sigma_{2}^{2} - 2 \\sigma_{1}^{4}} + \\frac{\\sigma_{0}^{2} J_{44}}{\\sigma_{0}^{2} \\sigma_{2}^{2} - \\sigma_{1}^{4}} + \\frac{315 J_{4==4}}{8 \\sigma_{2}^{2}}\\end{matrix}\\right]$"
      ],
      "text/plain": [
       "Matrix([\n",
       "[15*sigma2**2*J_2=2/(2*sigma0**2*sigma2**2 - 2*sigma1**4) + sigma2**2*J_22/(sigma0**2*sigma2**2 - sigma1**4),                                                0,                            15*sigma1**2*J_2=4/(2*sigma0**2*sigma2**2 - 2*sigma1**4) + sigma1**2*J_24/(sigma0**2*sigma2**2 - sigma1**4)],\n",
       "[                                                                                                          0, -3*J_3-3/sigma1**2 - 35*J_3\\equiv3/(2*sigma1**2),                                                                                                                                      0],\n",
       "[15*sigma1**2*J_4=2/(2*sigma0**2*sigma2**2 - 2*sigma1**4) + sigma1**2*J_42/(sigma0**2*sigma2**2 - sigma1**4),                                                0, 15*sigma0**2*J_4=4/(2*sigma0**2*sigma2**2 - 2*sigma1**4) + sigma0**2*J_44/(sigma0**2*sigma2**2 - sigma1**4) + 315*J_4==4/(8*sigma2**2)]])"
      ]
     },
     "execution_count": 54,
     "metadata": {},
     "output_type": "execute_result"
    }
   ],
   "source": [
    "%%time\n",
    "CiJ, sigma = its.pseudo_inverse_covariance_matrix((2,3,4))\n",
    "#CiI = CiJ.subs(its.symbol_JtoI()).expand()\n",
    "CiJ"
   ]
  },
  {
   "cell_type": "code",
   "execution_count": 53,
   "id": "60eb7968",
   "metadata": {
    "collapsed": true,
    "jupyter": {
     "outputs_hidden": true
    }
   },
   "outputs": [
    {
     "data": {
      "text/plain": [
       "\"(MutableDenseMatrix([[Add(Mul(Integer(15), Pow(Symbol('sigma2', real=True, positive=True), Integer(2)), Pow(Add(Mul(Integer(2), Pow(Symbol('sigma0', real=True, positive=True), Integer(2)), Pow(Symbol('sigma2', real=True, positive=True), Integer(2))), Mul(Integer(-1), Integer(2), Pow(Symbol('sigma1', real=True, positive=True), Integer(4)))), Integer(-1)), Symbol('J_2=2', commutative=False)), Mul(Pow(Symbol('sigma2', real=True, positive=True), Integer(2)), Pow(Add(Mul(Pow(Symbol('sigma0', real=True, positive=True), Integer(2)), Pow(Symbol('sigma2', real=True, positive=True), Integer(2))), Mul(Integer(-1), Pow(Symbol('sigma1', real=True, positive=True), Integer(4)))), Integer(-1)), Symbol('J_22', commutative=False))), Integer(0), Add(Mul(Integer(15), Pow(Symbol('sigma1', real=True, positive=True), Integer(2)), Pow(Add(Mul(Integer(2), Pow(Symbol('sigma0', real=True, positive=True), Integer(2)), Pow(Symbol('sigma2', real=True, positive=True), Integer(2))), Mul(Integer(-1), Integer(2), Pow(Symbol('sigma1', real=True, positive=True), Integer(4)))), Integer(-1)), Symbol('J_2=4', commutative=False)), Mul(Pow(Symbol('sigma1', real=True, positive=True), Integer(2)), Pow(Add(Mul(Pow(Symbol('sigma0', real=True, positive=True), Integer(2)), Pow(Symbol('sigma2', real=True, positive=True), Integer(2))), Mul(Integer(-1), Pow(Symbol('sigma1', real=True, positive=True), Integer(4)))), Integer(-1)), Symbol('J_24', commutative=False)))], [Integer(0), Add(Mul(Integer(-1), Integer(3), Pow(Symbol('sigma1', real=True, positive=True), Integer(-2)), Symbol('J_3-3', commutative=False)), Mul(Integer(-1), Rational(35, 2), Pow(Symbol('sigma1', real=True, positive=True), Integer(-2)), Symbol('J_3\\\\\\\\equiv3', commutative=False))), Integer(0)], [Add(Mul(Integer(15), Pow(Symbol('sigma1', real=True, positive=True), Integer(2)), Pow(Add(Mul(Integer(2), Pow(Symbol('sigma0', real=True, positive=True), Integer(2)), Pow(Symbol('sigma2', real=True, positive=True), Integer(2))), Mul(Integer(-1), Integer(2), Pow(Symbol('sigma1', real=True, positive=True), Integer(4)))), Integer(-1)), Symbol('J_4=2', commutative=False)), Mul(Pow(Symbol('sigma1', real=True, positive=True), Integer(2)), Pow(Add(Mul(Pow(Symbol('sigma0', real=True, positive=True), Integer(2)), Pow(Symbol('sigma2', real=True, positive=True), Integer(2))), Mul(Integer(-1), Pow(Symbol('sigma1', real=True, positive=True), Integer(4)))), Integer(-1)), Symbol('J_42', commutative=False))), Integer(0), Add(Mul(Integer(15), Pow(Symbol('sigma0', real=True, positive=True), Integer(2)), Pow(Add(Mul(Integer(2), Pow(Symbol('sigma0', real=True, positive=True), Integer(2)), Pow(Symbol('sigma2', real=True, positive=True), Integer(2))), Mul(Integer(-1), Integer(2), Pow(Symbol('sigma1', real=True, positive=True), Integer(4)))), Integer(-1)), Symbol('J_4=4', commutative=False)), Mul(Pow(Symbol('sigma0', real=True, positive=True), Integer(2)), Pow(Add(Mul(Pow(Symbol('sigma0', real=True, positive=True), Integer(2)), Pow(Symbol('sigma2', real=True, positive=True), Integer(2))), Mul(Integer(-1), Pow(Symbol('sigma1', real=True, positive=True), Integer(4)))), Integer(-1)), Symbol('J_44', commutative=False)), Mul(Rational(315, 8), Pow(Symbol('sigma2', real=True, positive=True), Integer(-2)), Symbol('J_4==4', commutative=False)))]]), (Symbol('sigma0', real=True, positive=True), Symbol('sigma1', real=True, positive=True), Symbol('sigma2', real=True, positive=True)), {0: {0: [Mul(Pow(Symbol('sigma2', real=True, positive=True), Integer(2)), Pow(Add(Mul(Pow(Symbol('sigma0', real=True, positive=True), Integer(2)), Pow(Symbol('sigma2', real=True, positive=True), Integer(2))), Mul(Integer(-1), Pow(Symbol('sigma1', real=True, positive=True), Integer(4)))), Integer(-1))), Mul(Integer(15), Pow(Symbol('sigma2', real=True, positive=True), Integer(2)), Pow(Add(Mul(Integer(2), Pow(Symbol('sigma0', real=True, positive=True), Integer(2)), Pow(Symbol('sigma2', real=True, positive=True), Integer(2))), Mul(Integer(-1), Integer(2), Pow(Symbol('sigma1', real=True, positive=True), Integer(4)))), Integer(-1)))], 1: [], 2: [Mul(Pow(Symbol('sigma1', real=True, positive=True), Integer(2)), Pow(Add(Mul(Pow(Symbol('sigma0', real=True, positive=True), Integer(2)), Pow(Symbol('sigma2', real=True, positive=True), Integer(2))), Mul(Integer(-1), Pow(Symbol('sigma1', real=True, positive=True), Integer(4)))), Integer(-1))), Mul(Integer(15), Pow(Symbol('sigma1', real=True, positive=True), Integer(2)), Pow(Add(Mul(Integer(2), Pow(Symbol('sigma0', real=True, positive=True), Integer(2)), Pow(Symbol('sigma2', real=True, positive=True), Integer(2))), Mul(Integer(-1), Integer(2), Pow(Symbol('sigma1', real=True, positive=True), Integer(4)))), Integer(-1)))]}, 1: {0: [], 1: [Mul(Integer(-1), Integer(3), Pow(Symbol('sigma1', real=True, positive=True), Integer(-2))), Mul(Integer(-1), Rational(35, 2), Pow(Symbol('sigma1', real=True, positive=True), Integer(-2)))], 2: []}, 2: {0: [Mul(Pow(Symbol('sigma1', real=True, positive=True), Integer(2)), Pow(Add(Mul(Pow(Symbol('sigma0', real=True, positive=True), Integer(2)), Pow(Symbol('sigma2', real=True, positive=True), Integer(2))), Mul(Integer(-1), Pow(Symbol('sigma1', real=True, positive=True), Integer(4)))), Integer(-1))), Mul(Integer(15), Pow(Symbol('sigma1', real=True, positive=True), Integer(2)), Pow(Add(Mul(Integer(2), Pow(Symbol('sigma0', real=True, positive=True), Integer(2)), Pow(Symbol('sigma2', real=True, positive=True), Integer(2))), Mul(Integer(-1), Integer(2), Pow(Symbol('sigma1', real=True, positive=True), Integer(4)))), Integer(-1)))], 1: [], 2: [Mul(Pow(Symbol('sigma0', real=True, positive=True), Integer(2)), Pow(Add(Mul(Pow(Symbol('sigma0', real=True, positive=True), Integer(2)), Pow(Symbol('sigma2', real=True, positive=True), Integer(2))), Mul(Integer(-1), Pow(Symbol('sigma1', real=True, positive=True), Integer(4)))), Integer(-1))), Mul(Integer(15), Pow(Symbol('sigma0', real=True, positive=True), Integer(2)), Pow(Add(Mul(Integer(2), Pow(Symbol('sigma0', real=True, positive=True), Integer(2)), Pow(Symbol('sigma2', real=True, positive=True), Integer(2))), Mul(Integer(-1), Integer(2), Pow(Symbol('sigma1', real=True, positive=True), Integer(4)))), Integer(-1))), Mul(Rational(315, 8), Pow(Symbol('sigma2', real=True, positive=True), Integer(-2)))]}}, {0: {0: ['J22', 'J2=2'], 1: [], 2: ['J24', 'J2=4']}, 1: {0: [], 1: ['J3-3', 'J3---3'], 2: []}, 2: {0: ['J42', 'J4=2'], 1: [], 2: ['J44', 'J4=4', 'J4==4']}})\""
      ]
     },
     "execution_count": 53,
     "metadata": {},
     "output_type": "execute_result"
    }
   ],
   "source": [
    "sympy.srepr(its.pseudo_inverse_covariance_matrix((2,3,4), full_output=True))"
   ]
  },
  {
   "cell_type": "code",
   "execution_count": 31,
   "id": "b68d4382",
   "metadata": {},
   "outputs": [
    {
     "name": "stdout",
     "output_type": "stream",
     "text": [
      "\\left[\\begin{matrix}T\\\\R\\\\S\\end{matrix}\\right]\n"
     ]
    }
   ],
   "source": [
    "print(sympy.printing.latex(its.x))"
   ]
  },
  {
   "cell_type": "code",
   "execution_count": 55,
   "id": "835d5f80",
   "metadata": {},
   "outputs": [
    {
     "name": "stdout",
     "output_type": "stream",
     "text": [
      "\\left[\\begin{matrix}\\frac{15 \\sigma_{2}^{2} J_{2=2}}{2 \\sigma_{0}^{2} \\sigma_{2}^{2} - 2 \\sigma_{1}^{4}} + \\frac{\\sigma_{2}^{2} J_{22}}{\\sigma_{0}^{2} \\sigma_{2}^{2} - \\sigma_{1}^{4}} & 0 & \\frac{15 \\sigma_{1}^{2} J_{2=4}}{2 \\sigma_{0}^{2} \\sigma_{2}^{2} - 2 \\sigma_{1}^{4}} + \\frac{\\sigma_{1}^{2} J_{24}}{\\sigma_{0}^{2} \\sigma_{2}^{2} - \\sigma_{1}^{4}}\\\\0 & - \\frac{3 J_{3-3}}{\\sigma_{1}^{2}} - \\frac{35 J_{3\\equiv3}}{2 \\sigma_{1}^{2}} & 0\\\\\\frac{15 \\sigma_{1}^{2} J_{4=2}}{2 \\sigma_{0}^{2} \\sigma_{2}^{2} - 2 \\sigma_{1}^{4}} + \\frac{\\sigma_{1}^{2} J_{42}}{\\sigma_{0}^{2} \\sigma_{2}^{2} - \\sigma_{1}^{4}} & 0 & \\frac{15 \\sigma_{0}^{2} J_{4=4}}{2 \\sigma_{0}^{2} \\sigma_{2}^{2} - 2 \\sigma_{1}^{4}} + \\frac{\\sigma_{0}^{2} J_{44}}{\\sigma_{0}^{2} \\sigma_{2}^{2} - \\sigma_{1}^{4}} + \\frac{315 J_{4==4}}{8 \\sigma_{2}^{2}}\\end{matrix}\\right]\n"
     ]
    }
   ],
   "source": [
    "print(sympy.printing.latex(CiJ))"
   ]
  },
  {
   "cell_type": "markdown",
   "id": "24eac797",
   "metadata": {},
   "source": [
    "# Infer Symbol Algebra"
   ]
  },
  {
   "cell_type": "code",
   "execution_count": 11,
   "id": "78d62e76",
   "metadata": {},
   "outputs": [
    {
     "data": {
      "text/latex": [
       "$\\displaystyle \\left[\\begin{array}{ccccccccccccccc}J_{2}^{2} & J_{2} J_{22} & J_{2} J_{24} & J_{2} J_{222} & J_{2} J_{2=22} & J_{22}^{2} & J_{22} J_{24} & J_{22} J_{222} & J_{22} J_{2=22} & J_{2=2}^{2} & J_{2=2} J_{2=4} & J_{2=2} J_{2=22} & J_{2=2} J_{2-2-2-} & J_{42} J_{24} & J_{4=2} J_{2=4}\\\\3 & 3 J_{2} & 3 J_{4} & 3 J_{22} & J_{2=2} & 3 J_{22} & 3 J_{24} & 3 J_{222} & J_{2=22} & J_{2=2} & J_{2=4} & \\frac{2 J_{2=22}}{3} & J_{2-2-2-} & 3 J_{44} & J_{4=4}\\end{array}\\right]$"
      ],
      "text/plain": [
       "Matrix([\n",
       "[J_2**2, J_2*J_22, J_2*J_24, J_2*J_222, J_2*J_2=22, J_22**2, J_22*J_24, J_22*J_222, J_22*J_2=22, J_2=2**2, J_2=2*J_2=4, J_2=2*J_2=22, J_2=2*J_2-2-2-, J_42*J_24, J_4=2*J_2=4],\n",
       "[     3,    3*J_2,    3*J_4,    3*J_22,      J_2=2,  3*J_22,    3*J_24,    3*J_222,      J_2=22,    J_2=2,       J_2=4,   2*J_2=22/3,       J_2-2-2-,    3*J_44,       J_4=4]])"
      ]
     },
     "execution_count": 11,
     "metadata": {},
     "output_type": "execute_result"
    }
   ],
   "source": [
    "sympy.Matrix(its.symbol_algebra(product=2)).T"
   ]
  },
  {
   "cell_type": "code",
   "execution_count": 12,
   "id": "2485d3e1",
   "metadata": {},
   "outputs": [
    {
     "data": {
      "text/latex": [
       "$\\displaystyle \\left[\\begin{matrix}J_{3-3}^{2} & J_{3\\equiv3}^{2}\\\\\\frac{5 J_{3-3}}{3} & J_{3\\equiv3}\\end{matrix}\\right]$"
      ],
      "text/plain": [
       "Matrix([\n",
       "[ J_3-3**2, J_3\\equiv3**2],\n",
       "[5*J_3-3/3,    J_3\\equiv3]])"
      ]
     },
     "execution_count": 12,
     "metadata": {},
     "output_type": "execute_result"
    }
   ],
   "source": [
    "sympy.Matrix(its.symbol_algebra(product=3)).T"
   ]
  },
  {
   "cell_type": "code",
   "execution_count": 13,
   "id": "76bb70c8",
   "metadata": {},
   "outputs": [
    {
     "data": {
      "text/latex": [
       "$\\displaystyle \\left[\\begin{matrix}J_{4}^{2} & J_{4} J_{42} & J_{4} J_{44} & J_{24} J_{44} & J_{2=4} J_{4=4} & J_{44}^{2} & J_{4=4}^{2} & J_{4==4}^{2}\\\\5 & 5 J_{2} & 5 J_{4} & 5 J_{24} & \\frac{7 J_{2=4}}{6} & 5 J_{44} & \\frac{7 J_{4=4}}{6} & J_{4==4}\\end{matrix}\\right]$"
      ],
      "text/plain": [
       "Matrix([\n",
       "[J_4**2, J_4*J_42, J_4*J_44, J_24*J_44, J_2=4*J_4=4, J_44**2,  J_4=4**2, J_4==4**2],\n",
       "[     5,    5*J_2,    5*J_4,    5*J_24,   7*J_2=4/6,  5*J_44, 7*J_4=4/6,    J_4==4]])"
      ]
     },
     "execution_count": 13,
     "metadata": {},
     "output_type": "execute_result"
    }
   ],
   "source": [
    "sympy.Matrix(its.symbol_algebra(product=4)).T"
   ]
  },
  {
   "cell_type": "markdown",
   "id": "e048efe7",
   "metadata": {},
   "source": [
    "# Basis relations"
   ]
  },
  {
   "cell_type": "code",
   "execution_count": 14,
   "id": "b8560f68",
   "metadata": {},
   "outputs": [
    {
     "data": {
      "text/latex": [
       "$\\displaystyle \\left[\\begin{matrix}1 & 1\\\\J_{2} & I_{2}\\\\J_{4} & I_{4}\\\\J_{6} & I_{6}\\\\J_{8} & I_{8}\\\\J_{22} & I_{22}\\\\J_{2=2} & - \\frac{I_{22}}{3} + I_{2=2}\\\\J_{3-3} & I_{3-3}\\\\J_{3\\equiv3} & - \\frac{3 I_{3-3}}{5} + I_{3\\equiv3}\\\\J_{42} & I_{42}\\\\J_{4=2} & - \\frac{I_{42}}{3} + I_{4=2}\\\\J_{24} & I_{24}\\\\J_{2=4} & - \\frac{I_{24}}{3} + I_{2=4}\\\\J_{44} & I_{44}\\\\J_{4=4} & - \\frac{I_{44}}{3} + I_{4=4}\\\\J_{4==4} & \\frac{3 I_{44}}{35} - \\frac{6 I_{4=4}}{7} + I_{4==4}\\\\J_{222} & I_{222}\\\\J_{2=22} & - \\frac{I_{222}}{3} + I_{2=22}\\\\J_{2-2-2-} & I_{2-2-2-} + \\frac{2 I_{222}}{9} - I_{2=22}\\end{matrix}\\right]$"
      ],
      "text/plain": [
       "Matrix([\n",
       "[         1,                              1],\n",
       "[       J_2,                            I_2],\n",
       "[       J_4,                            I_4],\n",
       "[       J_6,                            I_6],\n",
       "[       J_8,                            I_8],\n",
       "[      J_22,                           I_22],\n",
       "[     J_2=2,                -I_22/3 + I_2=2],\n",
       "[     J_3-3,                          I_3-3],\n",
       "[J_3\\equiv3,        -3*I_3-3/5 + I_3\\equiv3],\n",
       "[      J_42,                           I_42],\n",
       "[     J_4=2,                -I_42/3 + I_4=2],\n",
       "[      J_24,                           I_24],\n",
       "[     J_2=4,                -I_24/3 + I_2=4],\n",
       "[      J_44,                           I_44],\n",
       "[     J_4=4,                -I_44/3 + I_4=4],\n",
       "[    J_4==4, 3*I_44/35 - 6*I_4=4/7 + I_4==4],\n",
       "[     J_222,                          I_222],\n",
       "[    J_2=22,              -I_222/3 + I_2=22],\n",
       "[  J_2-2-2-,  I_2-2-2- + 2*I_222/9 - I_2=22]])"
      ]
     },
     "execution_count": 14,
     "metadata": {},
     "output_type": "execute_result"
    }
   ],
   "source": [
    "sympy.Matrix(its.symbol_JtoI())"
   ]
  },
  {
   "cell_type": "code",
   "execution_count": 15,
   "id": "810630d1",
   "metadata": {},
   "outputs": [
    {
     "data": {
      "text/latex": [
       "$\\displaystyle \\left[\\begin{matrix}1 & 1\\\\I_{2} & J_{2}\\\\I_{4} & J_{4}\\\\I_{6} & J_{6}\\\\I_{8} & J_{8}\\\\I_{22} & J_{22}\\\\I_{2=2} & \\frac{J_{22}}{3} + J_{2=2}\\\\I_{3-3} & J_{3-3}\\\\I_{3\\equiv3} & \\frac{3 J_{3-3}}{5} + J_{3\\equiv3}\\\\I_{42} & J_{42}\\\\I_{4=2} & \\frac{J_{42}}{3} + J_{4=2}\\\\I_{24} & J_{24}\\\\I_{2=4} & \\frac{J_{24}}{3} + J_{2=4}\\\\I_{44} & J_{44}\\\\I_{4=4} & \\frac{J_{44}}{3} + J_{4=4}\\\\I_{4==4} & \\frac{J_{44}}{5} + \\frac{6 J_{4=4}}{7} + J_{4==4}\\\\I_{222} & J_{222}\\\\I_{2=22} & \\frac{J_{222}}{3} + J_{2=22}\\\\I_{2-2-2-} & J_{2-2-2-} + \\frac{J_{222}}{9} + J_{2=22}\\end{matrix}\\right]$"
      ],
      "text/plain": [
       "Matrix([\n",
       "[         1,                           1],\n",
       "[       I_2,                         J_2],\n",
       "[       I_4,                         J_4],\n",
       "[       I_6,                         J_6],\n",
       "[       I_8,                         J_8],\n",
       "[      I_22,                        J_22],\n",
       "[     I_2=2,              J_22/3 + J_2=2],\n",
       "[     I_3-3,                       J_3-3],\n",
       "[I_3\\equiv3,      3*J_3-3/5 + J_3\\equiv3],\n",
       "[      I_42,                        J_42],\n",
       "[     I_4=2,              J_42/3 + J_4=2],\n",
       "[      I_24,                        J_24],\n",
       "[     I_2=4,              J_24/3 + J_2=4],\n",
       "[      I_44,                        J_44],\n",
       "[     I_4=4,              J_44/3 + J_4=4],\n",
       "[    I_4==4, J_44/5 + 6*J_4=4/7 + J_4==4],\n",
       "[     I_222,                       J_222],\n",
       "[    I_2=22,            J_222/3 + J_2=22],\n",
       "[  I_2-2-2-, J_2-2-2- + J_222/9 + J_2=22]])"
      ]
     },
     "execution_count": 15,
     "metadata": {},
     "output_type": "execute_result"
    }
   ],
   "source": [
    "sympy.Matrix(its.symbol_ItoJ())"
   ]
  },
  {
   "cell_type": "markdown",
   "id": "8ba2e367",
   "metadata": {},
   "source": [
    "# Determinants"
   ]
  },
  {
   "cell_type": "code",
   "execution_count": 12,
   "id": "29631703",
   "metadata": {},
   "outputs": [
    {
     "data": {
      "text/plain": [
       "array([0., 0., 0., 1., 1., 1., 1., 1., 1.])"
      ]
     },
     "execution_count": 12,
     "metadata": {},
     "output_type": "execute_result"
    }
   ],
   "source": [
    "A = its(\"I2=2\").numeric_rep.reshape(9,9)\n",
    "np.linalg.eigvalsh(A)"
   ]
  },
  {
   "cell_type": "code",
   "execution_count": 39,
   "id": "c76a6815",
   "metadata": {},
   "outputs": [
    {
     "data": {
      "text/plain": [
       "array([-7.74573024e-17,  0.00000000e+00,  7.80333789e-17,  1.74600905e-16,\n",
       "        1.00000000e+00,  1.00000000e+00,  1.00000000e+00,  1.00000000e+00,\n",
       "        1.00000000e+00])"
      ]
     },
     "execution_count": 39,
     "metadata": {},
     "output_type": "execute_result"
    }
   ],
   "source": [
    "A = its(\"J2=2\").numeric_rep.reshape(9,9)\n",
    "np.linalg.eigvalsh(A)"
   ]
  },
  {
   "cell_type": "code",
   "execution_count": 16,
   "id": "f9287978",
   "metadata": {},
   "outputs": [
    {
     "name": "stdout",
     "output_type": "stream",
     "text": [
      "[-0. -0.  0.  0.  0.  0.  0.  0.  3.]\n"
     ]
    }
   ],
   "source": [
    "A = its(\"I22\").numeric_rep.reshape(9,9)\n",
    "print(np.round(np.linalg.eigvalsh(A), 10))"
   ]
  },
  {
   "cell_type": "code",
   "execution_count": 20,
   "id": "33b0f795",
   "metadata": {},
   "outputs": [
    {
     "name": "stdout",
     "output_type": "stream",
     "text": [
      "[-0.  0.  0.  1.  1.  1.  1.  1.  3.]\n"
     ]
    }
   ],
   "source": [
    "a, b = 1., 1.\n",
    "M = a*its(\"J22\").numeric_rep + b*its(\"J2=2\").numeric_rep\n",
    "print(np.round(np.linalg.eigvalsh(M.reshape(9,9)), 10))"
   ]
  },
  {
   "cell_type": "code",
   "execution_count": 26,
   "id": "c241ebae",
   "metadata": {},
   "outputs": [
    {
     "name": "stdout",
     "output_type": "stream",
     "text": [
      "9.0\n"
     ]
    }
   ],
   "source": [
    "a, b = 3., 1.\n",
    "M = a*its(\"J22\").numeric_rep + b*its(\"J2=2\").numeric_rep\n",
    "eig = np.round(np.linalg.eigvalsh(M.reshape(9,9)), 10)\n",
    "print(np.prod(eig[np.abs(eig) >= 1e-10]))"
   ]
  },
  {
   "cell_type": "code",
   "execution_count": 38,
   "id": "e3f36726",
   "metadata": {},
   "outputs": [
    {
     "name": "stdout",
     "output_type": "stream",
     "text": [
      "[-0.          0.          0.          0.66666667  0.66666667  0.66666667\n",
      "  0.66666667  0.66666667  1.66666667] 0.21947873799725656 4.556250000000001\n"
     ]
    }
   ],
   "source": [
    "a, b = 5./9., 2./3.\n",
    "M = a*its(\"J22\").numeric_rep + b*its(\"J2=2\").numeric_rep\n",
    "eig = np.linalg.eigvalsh(M.reshape(9,9))\n",
    "print(np.round(eig, 10), np.prod(eig[np.abs(eig) >= 1e-10]), 1./(b**5*a*3))"
   ]
  },
  {
   "cell_type": "code",
   "execution_count": 37,
   "id": "2b630edb",
   "metadata": {},
   "outputs": [
    {
     "name": "stdout",
     "output_type": "stream",
     "text": [
      "[-0.         -0.          0.          0.66666667  0.66666667  0.66666667\n",
      "  0.66666667  0.66666667  1.66666667] 0.2194787379972567 0.21947873799725645\n"
     ]
    }
   ],
   "source": [
    "a, b = 5./9., 2./3.\n",
    "M = its(\"J4\").numeric_rep\n",
    "eig = np.linalg.eigvalsh(M.reshape(9,9))\n",
    "print(np.round(eig, 10), np.prod(eig[np.abs(eig) >= 1e-10]), b**5*a*3)"
   ]
  },
  {
   "cell_type": "code",
   "execution_count": 32,
   "id": "f123da46",
   "metadata": {},
   "outputs": [
    {
     "name": "stdout",
     "output_type": "stream",
     "text": [
      "[-0.   0.   0.   0.6  1.5  1.5  1.5  1.5  1.5] 4.556249999999997 0.21947873799725667 4.55625 0.2194787379972565\n"
     ]
    }
   ],
   "source": [
    "a, b = 1./5., 3./2.\n",
    "M = a*its(\"J22\").numeric_rep + b*its(\"J2=2\").numeric_rep\n",
    "eig = np.linalg.eigvalsh(M.reshape(9,9))\n",
    "print(np.round(eig, 10), np.prod(eig[np.abs(eig) >= 1e-10]), 1./np.prod(eig[np.abs(eig) >= 1e-10]), b**5*3*a, 1./(b**5*3*a))"
   ]
  },
  {
   "cell_type": "code",
   "execution_count": 34,
   "id": "b5fc26da",
   "metadata": {},
   "outputs": [
    {
     "name": "stdout",
     "output_type": "stream",
     "text": [
      "[-2. -2. -2. -2. -2. -0. -0.  0.  9.] -288.0000000000005 -0.003472222222222216 -288.0 -0.003472222222222222\n"
     ]
    }
   ],
   "source": [
    "a, b = 3., -2.\n",
    "M = a*its(\"J22\").numeric_rep + b*its(\"J2=2\").numeric_rep\n",
    "eig = np.linalg.eigvalsh(M.reshape(9,9))\n",
    "print(np.round(eig, 10), np.prod(eig[np.abs(eig) >= 1e-10]), 1./np.prod(eig[np.abs(eig) >= 1e-10]), b**5*3*a, 1./(b**5*3*a))"
   ]
  },
  {
   "cell_type": "code",
   "execution_count": null,
   "id": "993d7819",
   "metadata": {},
   "outputs": [],
   "source": []
  }
 ],
 "metadata": {
  "kernelspec": {
   "display_name": "Python [conda env:jupyter] *",
   "language": "python",
   "name": "conda-env-jupyter-py"
  },
  "language_info": {
   "codemirror_mode": {
    "name": "ipython",
    "version": 3
   },
   "file_extension": ".py",
   "mimetype": "text/x-python",
   "name": "python",
   "nbconvert_exporter": "python",
   "pygments_lexer": "ipython3",
   "version": "3.8.5"
  }
 },
 "nbformat": 4,
 "nbformat_minor": 5
}
